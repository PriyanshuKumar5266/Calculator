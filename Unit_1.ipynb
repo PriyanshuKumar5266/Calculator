{
  "nbformat": 4,
  "nbformat_minor": 0,
  "metadata": {
    "colab": {
      "provenance": [],
      "authorship_tag": "ABX9TyNUGX6VypiYb3VwzNyUtcL8",
      "include_colab_link": true
    },
    "kernelspec": {
      "name": "python3",
      "display_name": "Python 3"
    },
    "language_info": {
      "name": "python"
    }
  },
  "cells": [
    {
      "cell_type": "markdown",
      "metadata": {
        "id": "view-in-github",
        "colab_type": "text"
      },
      "source": [
        "<a href=\"https://colab.research.google.com/github/PriyanshuKumar5266/Calculator/blob/main/Unit_1.ipynb\" target=\"_parent\"><img src=\"https://colab.research.google.com/assets/colab-badge.svg\" alt=\"Open In Colab\"/></a>"
      ]
    },
    {
      "cell_type": "code",
      "execution_count": null,
      "metadata": {
        "id": "TStajWRC4Xu2"
      },
      "outputs": [],
      "source": []
    },
    {
      "cell_type": "markdown",
      "source": [],
      "metadata": {
        "id": "RGUruvNVHKIw"
      }
    },
    {
      "cell_type": "markdown",
      "source": [
        "a = 10\n",
        "b = 20\n",
        "a,b = b,a\n",
        "print(a)\n",
        "print(b)"
      ],
      "metadata": {
        "id": "sBv93KVV98qM"
      }
    },
    {
      "cell_type": "code",
      "source": [
        "a = 10\n",
        "b = 20\n",
        "a,b = b,a\n",
        "print(a)\n",
        "print(b)\n"
      ],
      "metadata": {
        "colab": {
          "base_uri": "https://localhost:8080/"
        },
        "id": "-iKB9-y8-9-M",
        "outputId": "b56f6be9-1c31-4c5b-b366-1f16311305ed"
      },
      "execution_count": null,
      "outputs": [
        {
          "output_type": "stream",
          "name": "stdout",
          "text": [
            "20\n",
            "10\n"
          ]
        }
      ]
    },
    {
      "cell_type": "code",
      "source": [
        "thor_score=1000\n",
        "hulk_score=2000\n",
        "hulk_score,thor_score=hulk_score,thor_score\n",
        "print(hulk_score)\n",
        "print(thor_score)"
      ],
      "metadata": {
        "colab": {
          "base_uri": "https://localhost:8080/"
        },
        "id": "D1pC79Bx_lMz",
        "outputId": "aee4ad5a-baa8-408a-a2d6-0a77c2f5f305"
      },
      "execution_count": null,
      "outputs": [
        {
          "output_type": "stream",
          "name": "stdout",
          "text": [
            "2000\n",
            "1000\n"
          ]
        }
      ]
    },
    {
      "cell_type": "code",
      "source": [
        "hulk_strength=\"1000\"\n",
        "p = int(hulk_strength)\n",
        "print(p+200)"
      ],
      "metadata": {
        "colab": {
          "base_uri": "https://localhost:8080/"
        },
        "id": "mjl3shiGAjva",
        "outputId": "39f1f567-ef22-4638-a9c3-51e60181b3e8"
      },
      "execution_count": null,
      "outputs": [
        {
          "output_type": "stream",
          "name": "stdout",
          "text": [
            "1200\n"
          ]
        }
      ]
    },
    {
      "cell_type": "markdown",
      "source": [
        "1.loki gets input in seconds (as strings) : \"3600\" .convert it into an integer and then to hours. show final results as a float\n",
        "\n",
        "2iron man recorded 7 hits out of 10 shots(both integers) .convert them into float and calculate accuracy percentage."
      ],
      "metadata": {
        "id": "xLNQmEfZBI3y"
      }
    },
    {
      "cell_type": "code",
      "source": [
        "hits,total_shots=7,10\n",
        "acc = float(7/10)*100\n",
        "print(\"Acc % is : \",acc)\n",
        "print(f\"Acc: {acc:.2f}%\")"
      ],
      "metadata": {
        "colab": {
          "base_uri": "https://localhost:8080/"
        },
        "id": "aCePkYHDCN8j",
        "outputId": "fb35971c-2e19-477a-fa64-1bb9cbdaf904"
      },
      "execution_count": null,
      "outputs": [
        {
          "output_type": "stream",
          "name": "stdout",
          "text": [
            "Acc % is :  70.0\n",
            "Acc: 70.00%\n"
          ]
        }
      ]
    },
    {
      "cell_type": "code",
      "source": [
        "loki = \"3600\"\n",
        "hours = int(loki)/3600\n",
        "print(\"hour :\", float(hours))"
      ],
      "metadata": {
        "colab": {
          "base_uri": "https://localhost:8080/"
        },
        "id": "2ybTIZ8vDD1N",
        "outputId": "d27f7a07-5d5a-47f2-aa2a-3e740db74759"
      },
      "execution_count": null,
      "outputs": [
        {
          "output_type": "stream",
          "name": "stdout",
          "text": [
            "hour : 1.0\n"
          ]
        }
      ]
    },
    {
      "cell_type": "markdown",
      "source": [
        "object **referencing**  1.  python variable hold references to objects,not the actual object themselves"
      ],
      "metadata": {
        "id": "YoGV07aIEWq0"
      }
    },
    {
      "cell_type": "markdown",
      "source": [],
      "metadata": {
        "id": "vWQTq_dYF0oW"
      }
    },
    {
      "cell_type": "code",
      "source": [
        "a =[1,2,3]\n",
        "b = a\n",
        "print(f\"a :{a}\")\n",
        "b.append(4)\n",
        "print(f\"a :{a}\")\n",
        "print(f\"b :{b}\")"
      ],
      "metadata": {
        "colab": {
          "base_uri": "https://localhost:8080/"
        },
        "id": "jQhgtC3uGiqU",
        "outputId": "1f7d8578-a28e-4eae-ac09-d25416444fcf"
      },
      "execution_count": null,
      "outputs": [
        {
          "output_type": "stream",
          "name": "stdout",
          "text": [
            "a :[1, 2, 3]\n",
            "a :[1, 2, 3, 4]\n",
            "b :[1, 2, 3, 4]\n"
          ]
        }
      ]
    },
    {
      "cell_type": "code",
      "source": [
        "a =[1,2,3]\n",
        "b=a\n",
        "b=[4,5,6]\n",
        "print(f\"a :{a}\")\n",
        "print(f\"b :{b}\")\n"
      ],
      "metadata": {
        "colab": {
          "base_uri": "https://localhost:8080/"
        },
        "id": "Uy3E61uVHFhD",
        "outputId": "9cb05248-73c3-41cd-ccb2-c0d667f954c6"
      },
      "execution_count": null,
      "outputs": [
        {
          "output_type": "stream",
          "name": "stdout",
          "text": [
            "a :[1, 2, 3]\n",
            "b :[4, 5, 6]\n"
          ]
        }
      ]
    },
    {
      "cell_type": "markdown",
      "source": [
        "reassign\n",
        "**bold text**"
      ],
      "metadata": {
        "id": "GrCk4QK0Fqg4"
      }
    },
    {
      "cell_type": "markdown",
      "source": [
        "reassigning a variable doesn't affect other variable referencing the same object unless explicitly updated."
      ],
      "metadata": {
        "id": "-5NOYiwnHc2a"
      }
    },
    {
      "cell_type": "code",
      "source": [
        "shield = ['vibranium','round']\n",
        "copy_shield = shield\n",
        "print(\"original shield is\",shield)\n",
        "print(\"Wolverine changes the materials of shield.\")\n",
        "copy_shield[0] ='adamantium'\n",
        "print(\"New_shield\",shield)\n"
      ],
      "metadata": {
        "colab": {
          "base_uri": "https://localhost:8080/"
        },
        "id": "BsiBdfLOH1ph",
        "outputId": "d768963f-f456-474b-9fcd-c26bccd3c27a"
      },
      "execution_count": null,
      "outputs": [
        {
          "output_type": "stream",
          "name": "stdout",
          "text": [
            "original shield is ['vibranium', 'round']\n",
            "Wolverine changes the materials of shield.\n",
            "New_shield ['adamantium', 'round']\n"
          ]
        }
      ]
    },
    {
      "cell_type": "markdown",
      "source": [
        "removing a variable"
      ],
      "metadata": {
        "id": "mHJnBcEBLDws"
      }
    },
    {
      "cell_type": "code",
      "source": [
        "a =10\n",
        "del(a)\n",
        "print(\"a :\",a)\n"
      ],
      "metadata": {
        "colab": {
          "base_uri": "https://localhost:8080/",
          "height": 176
        },
        "id": "UwgINny1LL3d",
        "outputId": "7b2fe724-661f-480c-94fe-1c1059b028d4"
      },
      "execution_count": null,
      "outputs": [
        {
          "output_type": "error",
          "ename": "NameError",
          "evalue": "name 'a' is not defined",
          "traceback": [
            "\u001b[0;31m---------------------------------------------------------------------------\u001b[0m",
            "\u001b[0;31mNameError\u001b[0m                                 Traceback (most recent call last)",
            "\u001b[0;32m/tmp/ipython-input-3379880489.py\u001b[0m in \u001b[0;36m<cell line: 0>\u001b[0;34m()\u001b[0m\n\u001b[1;32m      1\u001b[0m \u001b[0ma\u001b[0m \u001b[0;34m=\u001b[0m\u001b[0;36m10\u001b[0m\u001b[0;34m\u001b[0m\u001b[0;34m\u001b[0m\u001b[0m\n\u001b[1;32m      2\u001b[0m \u001b[0;32mdel\u001b[0m\u001b[0;34m(\u001b[0m\u001b[0ma\u001b[0m\u001b[0;34m)\u001b[0m\u001b[0;34m\u001b[0m\u001b[0;34m\u001b[0m\u001b[0m\n\u001b[0;32m----> 3\u001b[0;31m \u001b[0mprint\u001b[0m\u001b[0;34m(\u001b[0m\u001b[0;34m\"a :\"\u001b[0m\u001b[0;34m,\u001b[0m\u001b[0ma\u001b[0m\u001b[0;34m)\u001b[0m\u001b[0;34m\u001b[0m\u001b[0;34m\u001b[0m\u001b[0m\n\u001b[0m",
            "\u001b[0;31mNameError\u001b[0m: name 'a' is not defined"
          ]
        }
      ]
    },
    {
      "cell_type": "markdown",
      "source": [],
      "metadata": {
        "id": "gKyT-BhTLYRW"
      }
    },
    {
      "cell_type": "code",
      "source": [
        "l = ['apple','banana','orange','grapes','pear']\n",
        "del l[0]\n",
        "print(\"list\",l)\n",
        "del l[2:4]\n",
        "print(\"list after slicing\",l)"
      ],
      "metadata": {
        "colab": {
          "base_uri": "https://localhost:8080/"
        },
        "id": "gu5CC6lfLZlC",
        "outputId": "68533d85-2ede-4848-a782-97ccc53a28f8"
      },
      "execution_count": null,
      "outputs": [
        {
          "output_type": "stream",
          "name": "stdout",
          "text": [
            "list ['banana', 'orange', 'grapes', 'pear']\n",
            "list after slicing ['banana', 'orange']\n"
          ]
        }
      ]
    },
    {
      "cell_type": "markdown",
      "source": [
        "slicing\n"
      ],
      "metadata": {
        "id": "WX13WKbEMSzj"
      }
    },
    {
      "cell_type": "markdown",
      "source": [
        "cal. average of the power level of your favorite avengers"
      ],
      "metadata": {
        "id": "G8LolLVNAmhC"
      }
    },
    {
      "cell_type": "code",
      "source": [
        "power_level = [90,80,88.0,98.0,100]\n",
        "average = round(sum(power_level) / len(power_level),2)\n",
        "print(average)"
      ],
      "metadata": {
        "colab": {
          "base_uri": "https://localhost:8080/"
        },
        "id": "P1IPovsRA1aq",
        "outputId": "5c368f46-ced6-48d0-e2ac-5643f8a8a3c6"
      },
      "execution_count": null,
      "outputs": [
        {
          "output_type": "stream",
          "name": "stdout",
          "text": [
            "91.2\n"
          ]
        }
      ]
    },
    {
      "cell_type": "markdown",
      "source": [
        "Interview Tip:-You must validate your input data and empty or incorrect datatype can collapsed even the strongest algorithm\n",
        "Never understimate the input validation."
      ],
      "metadata": {
        "id": "_EFHDPm8DrcT"
      }
    },
    {
      "cell_type": "markdown",
      "source": [
        "#String datatype"
      ],
      "metadata": {
        "id": "FOhOCwYAHNUs"
      }
    },
    {
      "cell_type": "markdown",
      "source": [
        "1. Ordered collection of characters arranged in a sequence.\n",
        "2.Strings are arrays of bytes representes in Unicode characters.\n",
        "3.No separate charactes. Character is length of one.\n",
        "4.String is represented using ' ' or \" \" or '''  '''\n",
        "5.It is immutable and starts with index 0."
      ],
      "metadata": {
        "id": "FQGjF74SHeMd"
      }
    },
    {
      "cell_type": "code",
      "source": [
        "S1 = \"This is a string\"\n",
        "print(S1)"
      ],
      "metadata": {
        "colab": {
          "base_uri": "https://localhost:8080/"
        },
        "id": "SkteWf4WIZsl",
        "outputId": "f04e53af-c329-4124-a5f9-2d993beb9d14"
      },
      "execution_count": null,
      "outputs": [
        {
          "output_type": "stream",
          "name": "stdout",
          "text": [
            "This is a string\n"
          ]
        }
      ]
    },
    {
      "cell_type": "code",
      "source": [
        "S1 = \"This is a string\"\n",
        "S2 = \"This \" + \"is \" + 'also ' + '''a ''' + \"\"\"string \"\"\"\n",
        "S3 = \"This\" +\" \"+ \"is \" +\" \"+ 'also ' +' '+ '''a ''' + \"\"\"string \"\"\"\n",
        "S4 =\"This is an example of \\\n",
        "Single line string written across multiple lines.\"\n",
        "print(S1)\n",
        "print(S2)\n",
        "print(S3)\n",
        "print(S4)"
      ],
      "metadata": {
        "colab": {
          "base_uri": "https://localhost:8080/"
        },
        "id": "dzpkDrM0IvXy",
        "outputId": "945bd310-d78a-4ecf-ca68-2ef2809a3f7e"
      },
      "execution_count": null,
      "outputs": [
        {
          "output_type": "stream",
          "name": "stdout",
          "text": [
            "This is a string\n",
            "This is also a string \n",
            "This is  also  a string \n",
            "This is an example of Single line string written across multiple lines.\n"
          ]
        }
      ]
    },
    {
      "cell_type": "code",
      "source": [
        "hulk = \"Hilk : SMASH!!\\n\"\n",
        "print(hulk * 3)"
      ],
      "metadata": {
        "colab": {
          "base_uri": "https://localhost:8080/"
        },
        "id": "c9N66IPNKkPa",
        "outputId": "28d86b60-04fb-4480-a829-1a15eb2efd3b"
      },
      "execution_count": null,
      "outputs": [
        {
          "output_type": "stream",
          "name": "stdout",
          "text": [
            "Hilk : SMASH!!\n",
            "Hilk : SMASH!!\n",
            "Hilk : SMASH!!\n",
            "\n"
          ]
        }
      ]
    },
    {
      "cell_type": "markdown",
      "source": [],
      "metadata": {
        "id": "4M_N228zMt-E"
      }
    },
    {
      "cell_type": "code",
      "source": [],
      "metadata": {
        "id": "uEeS2mxcMxRx"
      },
      "execution_count": null,
      "outputs": []
    },
    {
      "cell_type": "markdown",
      "source": [
        "String can be repeated by multiplying it by an integer."
      ],
      "metadata": {
        "id": "Eg-oEwbWHfgo"
      }
    },
    {
      "cell_type": "code",
      "source": [],
      "metadata": {
        "id": "zyKo_o2WLM3U"
      },
      "execution_count": null,
      "outputs": []
    },
    {
      "cell_type": "markdown",
      "source": [],
      "metadata": {
        "id": "szb4m-xgM-Xw"
      }
    },
    {
      "cell_type": "code",
      "source": [
        "iron_man = \"Avengers Assemble! #This is not a comment\"\n",
        "iron_man = \"Mission ID : #100\" #including (#) symbol into a string"
      ],
      "metadata": {
        "id": "qX0J4rM7MxyT"
      },
      "execution_count": null,
      "outputs": []
    },
    {
      "cell_type": "markdown",
      "source": [],
      "metadata": {
        "id": "6dGk7qJ7O3Zi"
      }
    },
    {
      "cell_type": "code",
      "source": [
        "#length of a string\n",
        "avenger = \"IRONMAN\"\n",
        "avenger1 = \"IRON MAN\"\n",
        "length_av2 = len(avenger1)\n",
        "first_ch = avenger[0]\n",
        "last_ch = avenger[-0] #0 and -0 are same in python\n",
        "\n",
        "print(length_av2)\n",
        "print(length_av2)\n",
        "print(first_ch)\n",
        "print(last_ch)\n",
        "print(slicing)"
      ],
      "metadata": {
        "colab": {
          "base_uri": "https://localhost:8080/",
          "height": 211
        },
        "id": "zFYgr5dQNWTC",
        "outputId": "81e6df13-8b81-4d78-c5f7-406ca9c7da7b"
      },
      "execution_count": null,
      "outputs": [
        {
          "output_type": "error",
          "ename": "NameError",
          "evalue": "name 'averager1' is not defined",
          "traceback": [
            "\u001b[0;31m---------------------------------------------------------------------------\u001b[0m",
            "\u001b[0;31mNameError\u001b[0m                                 Traceback (most recent call last)",
            "\u001b[0;32m/tmp/ipython-input-646886348.py\u001b[0m in \u001b[0;36m<cell line: 0>\u001b[0;34m()\u001b[0m\n\u001b[1;32m      5\u001b[0m \u001b[0mfirst_ch\u001b[0m \u001b[0;34m=\u001b[0m \u001b[0mavenger\u001b[0m\u001b[0;34m[\u001b[0m\u001b[0;36m0\u001b[0m\u001b[0;34m]\u001b[0m\u001b[0;34m\u001b[0m\u001b[0;34m\u001b[0m\u001b[0m\n\u001b[1;32m      6\u001b[0m \u001b[0mlast_ch\u001b[0m \u001b[0;34m=\u001b[0m \u001b[0mavenger\u001b[0m\u001b[0;34m[\u001b[0m\u001b[0;34m-\u001b[0m\u001b[0;36m0\u001b[0m\u001b[0;34m]\u001b[0m \u001b[0;31m#0 and -0 are same in python\u001b[0m\u001b[0;34m\u001b[0m\u001b[0;34m\u001b[0m\u001b[0m\n\u001b[0;32m----> 7\u001b[0;31m \u001b[0mslicing\u001b[0m \u001b[0;34m=\u001b[0m \u001b[0maverager1\u001b[0m\u001b[0;34m[\u001b[0m\u001b[0;36m4\u001b[0m\u001b[0;34m:\u001b[0m\u001b[0;36m9\u001b[0m\u001b[0;34m]\u001b[0m\u001b[0;34m\u001b[0m\u001b[0;34m\u001b[0m\u001b[0m\n\u001b[0m\u001b[1;32m      8\u001b[0m \u001b[0mprint\u001b[0m\u001b[0;34m(\u001b[0m\u001b[0mlength_av2\u001b[0m\u001b[0;34m)\u001b[0m\u001b[0;34m\u001b[0m\u001b[0;34m\u001b[0m\u001b[0m\n\u001b[1;32m      9\u001b[0m \u001b[0mprint\u001b[0m\u001b[0;34m(\u001b[0m\u001b[0mlength_av2\u001b[0m\u001b[0;34m)\u001b[0m\u001b[0;34m\u001b[0m\u001b[0;34m\u001b[0m\u001b[0m\n",
            "\u001b[0;31mNameError\u001b[0m: name 'averager1' is not defined"
          ]
        }
      ]
    },
    {
      "cell_type": "code",
      "source": [
        "avenger = \"IRON MAN\"\n",
        "slicing = avenger[4:7]\n",
        "print(slicing)"
      ],
      "metadata": {
        "colab": {
          "base_uri": "https://localhost:8080/"
        },
        "id": "MjVDDKlEPkpC",
        "outputId": "9e520cd4-14b7-49cc-81d1-1cbef6b15dde"
      },
      "execution_count": null,
      "outputs": [
        {
          "output_type": "stream",
          "name": "stdout",
          "text": [
            " MA\n"
          ]
        }
      ]
    },
    {
      "cell_type": "code",
      "source": [
        "avenger = \"IRON MAN\"\n",
        "reverse = avenger[8:0:-1]\n",
        "for _ in avenger:\n",
        "  print(_,end = '*')\n",
        "print(reverse)"
      ],
      "metadata": {
        "colab": {
          "base_uri": "https://localhost:8080/"
        },
        "id": "gFIQ9ax4OBXB",
        "outputId": "6f7f1ca1-046e-4aa5-d773-a0a3ec5df1a1"
      },
      "execution_count": null,
      "outputs": [
        {
          "output_type": "stream",
          "name": "stdout",
          "text": [
            "I*R*O*N* *M*A*N*NAM NOR\n"
          ]
        }
      ]
    },
    {
      "cell_type": "code",
      "source": [],
      "metadata": {
        "id": "lmo97VLmTc_w"
      },
      "execution_count": null,
      "outputs": []
    },
    {
      "cell_type": "code",
      "source": [
        "avenger = \"IRON MAN\"\n",
        "a = avenger[:6]\n",
        "a1 = avenger[-6:]\n",
        "print(a)\n",
        "print(a1)"
      ],
      "metadata": {
        "colab": {
          "base_uri": "https://localhost:8080/"
        },
        "id": "bBHWYcj2Rzfl",
        "outputId": "90ef5bac-288a-4988-9df3-d388abbd95d5"
      },
      "execution_count": null,
      "outputs": [
        {
          "output_type": "stream",
          "name": "stdout",
          "text": [
            "IRON M\n",
            "ON MAN\n"
          ]
        }
      ]
    },
    {
      "cell_type": "markdown",
      "source": [
        "write a python program to selct the part  (middle) of the sequences.This seq are the tokens of text eg.\n",
        "token = [\"IronMan\",\"saves\",\"the\",\"world\",\"again\"]"
      ],
      "metadata": {
        "id": "KJNnW7DWSNMt"
      }
    },
    {
      "cell_type": "markdown",
      "source": [
        "slicing concept is useful in text preprocessing NLP\n",
        "2. it is also used in feature extraction and seq model\n",
        "eg.: RNN,transformer"
      ],
      "metadata": {
        "id": "191HpCluT9VN"
      }
    },
    {
      "cell_type": "code",
      "source": [
        "token = [\"IronMan\",\"saves\",\"the\",\"world\",\"again\"]\n",
        "middle = token[len(token)//2 - (1 if len(token)%2==0 else 0) : len(token)//2 + 1]\n",
        "print(middle)\n",
        "\n"
      ],
      "metadata": {
        "colab": {
          "base_uri": "https://localhost:8080/"
        },
        "id": "x918f-_-Td2p",
        "outputId": "ced563c5-85ed-4137-a34f-91a09e6af180"
      },
      "execution_count": null,
      "outputs": [
        {
          "output_type": "stream",
          "name": "stdout",
          "text": [
            "['the']\n"
          ]
        }
      ]
    },
    {
      "cell_type": "markdown",
      "source": [
        "bool data type\n"
      ],
      "metadata": {
        "id": "mW14rM8yAjsM"
      }
    },
    {
      "cell_type": "code",
      "source": [
        "print(10>9<5)"
      ],
      "metadata": {
        "colab": {
          "base_uri": "https://localhost:8080/"
        },
        "id": "OIDn-qxPAmhd",
        "outputId": "a358f1b5-ce1e-4fd8-8419-a0e45a96ffaf"
      },
      "execution_count": null,
      "outputs": [
        {
          "output_type": "stream",
          "name": "stdout",
          "text": [
            "False\n"
          ]
        }
      ]
    },
    {
      "cell_type": "code",
      "source": [
        "print(10>9 or 9>8)"
      ],
      "metadata": {
        "colab": {
          "base_uri": "https://localhost:8080/"
        },
        "id": "huMU7sWZA0nL",
        "outputId": "9394b93b-ead5-44b3-ccd6-7e562813f44c"
      },
      "execution_count": null,
      "outputs": [
        {
          "output_type": "stream",
          "name": "stdout",
          "text": [
            "True\n"
          ]
        }
      ]
    },
    {
      "cell_type": "code",
      "source": [
        "# print(10>9 and 10<9)\n",
        "# print( not 10>9 )\n",
        "x =10\n",
        "y =20\n",
        "print(x^y)"
      ],
      "metadata": {
        "colab": {
          "base_uri": "https://localhost:8080/"
        },
        "id": "fqwCXv6wBAH6",
        "outputId": "169f5923-d3bb-4a8e-df4e-4bf973ca5b07"
      },
      "execution_count": null,
      "outputs": [
        {
          "output_type": "stream",
          "name": "stdout",
          "text": [
            "30\n"
          ]
        }
      ]
    },
    {
      "cell_type": "code",
      "source": [
        "x = 10\n",
        "y = 20\n",
        "x = x ^ y\n",
        "y = x ^ y\n",
        "x = x ^ y\n",
        "print(\"x is\",x)\n",
        "print(\"y is\",y)"
      ],
      "metadata": {
        "colab": {
          "base_uri": "https://localhost:8080/"
        },
        "id": "8YmFykypD7jF",
        "outputId": "e7da1e8e-6bf4-41fc-ed3a-49c93178339e"
      },
      "execution_count": null,
      "outputs": [
        {
          "output_type": "stream",
          "name": "stdout",
          "text": [
            "x is  20\n",
            "y is  10\n"
          ]
        }
      ]
    },
    {
      "cell_type": "markdown",
      "source": [
        "1.find the xor of number 10,12\n",
        "2.check odd or even a = 4, b =7\n",
        "\n",
        "\n",
        "\n"
      ],
      "metadata": {
        "id": "gRsKI5s2FQma"
      }
    },
    {
      "cell_type": "code",
      "source": [
        "print(10^12)"
      ],
      "metadata": {
        "colab": {
          "base_uri": "https://localhost:8080/"
        },
        "id": "f3XVpi8NFPMS",
        "outputId": "98f0013a-8e22-4693-cfe0-9269797e5b64"
      },
      "execution_count": null,
      "outputs": [
        {
          "output_type": "stream",
          "name": "stdout",
          "text": [
            "6\n"
          ]
        }
      ]
    },
    {
      "cell_type": "code",
      "source": [
        "a = 4\n",
        "b = 7\n",
        "print(\"even\" if (a^b)%2 == 0 else \"odd\")"
      ],
      "metadata": {
        "colab": {
          "base_uri": "https://localhost:8080/"
        },
        "id": "aK7WByD0FlO-",
        "outputId": "76eb0993-a916-49b7-c21e-0790f38ae1ec"
      },
      "execution_count": 1,
      "outputs": [
        {
          "output_type": "stream",
          "name": "stdout",
          "text": [
            "odd\n"
          ]
        }
      ]
    },
    {
      "cell_type": "code",
      "source": [
        "l = [4,1,2,1,2]\n",
        "a = 0\n",
        "for i in l:\n",
        "  a ^= i\n",
        "print(a)"
      ],
      "metadata": {
        "colab": {
          "base_uri": "https://localhost:8080/"
        },
        "id": "TbySIfnHF6-a",
        "outputId": "1759e5b3-b7ce-4a87-f401-8dd8a4953440"
      },
      "execution_count": null,
      "outputs": [
        {
          "output_type": "stream",
          "name": "stdout",
          "text": [
            "4\n"
          ]
        }
      ]
    },
    {
      "cell_type": "code",
      "source": [
        "print(True+False)"
      ],
      "metadata": {
        "colab": {
          "base_uri": "https://localhost:8080/"
        },
        "id": "Ph2UP0EMIt7F",
        "outputId": "c15fa630-e94f-49f8-c2f8-f0b56fe8f53f"
      },
      "execution_count": null,
      "outputs": [
        {
          "output_type": "stream",
          "name": "stdout",
          "text": [
            "1\n"
          ]
        }
      ]
    },
    {
      "cell_type": "markdown",
      "source": [
        "XOR - It is used in encryption"
      ],
      "metadata": {
        "id": "MwvadmL7Izsc"
      }
    },
    {
      "cell_type": "code",
      "source": [
        "print(bool([]))"
      ],
      "metadata": {
        "colab": {
          "base_uri": "https://localhost:8080/"
        },
        "id": "fNB0WewwJBb_",
        "outputId": "34331182-bdbe-42df-fb64-7fbcee117318"
      },
      "execution_count": null,
      "outputs": [
        {
          "output_type": "stream",
          "name": "stdout",
          "text": [
            "False\n"
          ]
        }
      ]
    },
    {
      "cell_type": "markdown",
      "source": [
        "bool is used to check emptyness"
      ],
      "metadata": {
        "id": "Bq6Gw-eDJP31"
      }
    },
    {
      "cell_type": "code",
      "source": [
        "print(any([1,2,3]))"
      ],
      "metadata": {
        "colab": {
          "base_uri": "https://localhost:8080/"
        },
        "id": "CwA8HekjJTyQ",
        "outputId": "2ed1d62f-2b41-4fb6-c39b-0a387aeeeea1"
      },
      "execution_count": null,
      "outputs": [
        {
          "output_type": "stream",
          "name": "stdout",
          "text": [
            "True\n"
          ]
        }
      ]
    },
    {
      "cell_type": "code",
      "source": [
        "marks = [65,70,80,95]\n",
        "print(any(m>=90 for m in marks))"
      ],
      "metadata": {
        "colab": {
          "base_uri": "https://localhost:8080/"
        },
        "id": "KNiNlMtyKyWh",
        "outputId": "d989298a-f69d-4fbd-ddc4-3ca3b091030f"
      },
      "execution_count": null,
      "outputs": [
        {
          "output_type": "stream",
          "name": "stdout",
          "text": [
            "True\n"
          ]
        }
      ]
    }
  ]
}