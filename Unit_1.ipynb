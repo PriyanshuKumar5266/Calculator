{
  "nbformat": 4,
  "nbformat_minor": 0,
  "metadata": {
    "colab": {
      "provenance": [],
      "authorship_tag": "ABX9TyOf1UiTbEyZc0KRKQf/zN7J",
      "include_colab_link": true
    },
    "kernelspec": {
      "name": "python3",
      "display_name": "Python 3"
    },
    "language_info": {
      "name": "python"
    }
  },
  "cells": [
    {
      "cell_type": "markdown",
      "metadata": {
        "id": "view-in-github",
        "colab_type": "text"
      },
      "source": [
        "<a href=\"https://colab.research.google.com/github/PriyanshuKumar5266/Calculator/blob/main/Unit_1.ipynb\" target=\"_parent\"><img src=\"https://colab.research.google.com/assets/colab-badge.svg\" alt=\"Open In Colab\"/></a>"
      ]
    },
    {
      "cell_type": "code",
      "execution_count": null,
      "metadata": {
        "id": "TStajWRC4Xu2",
        "outputId": "dc2b1e1b-601a-463a-d813-3cf474bee9ab",
        "colab": {
          "base_uri": "https://localhost:8080/",
          "height": 193
        }
      },
      "outputs": [
        {
          "name": "stdout",
          "output_type": "stream",
          "text": [
            "5 8 6 2\n"
          ]
        },
        {
          "output_type": "error",
          "ename": "TypeError",
          "evalue": "'list' object is not callable",
          "traceback": [
            "\u001b[0;31m---------------------------------------------------------------------------\u001b[0m",
            "\u001b[0;31mTypeError\u001b[0m                                 Traceback (most recent call last)",
            "\u001b[0;32m/tmp/ipython-input-1834596022.py\u001b[0m in \u001b[0;36m<cell line: 0>\u001b[0;34m()\u001b[0m\n\u001b[1;32m      1\u001b[0m \u001b[0;32mfrom\u001b[0m \u001b[0mitertools\u001b[0m \u001b[0;32mimport\u001b[0m \u001b[0maccumulate\u001b[0m\u001b[0;34m\u001b[0m\u001b[0;34m\u001b[0m\u001b[0m\n\u001b[0;32m----> 2\u001b[0;31m \u001b[0mnums\u001b[0m \u001b[0;34m=\u001b[0m \u001b[0mlist\u001b[0m\u001b[0;34m(\u001b[0m\u001b[0mmap\u001b[0m\u001b[0;34m(\u001b[0m\u001b[0mint\u001b[0m\u001b[0;34m,\u001b[0m \u001b[0minput\u001b[0m\u001b[0;34m(\u001b[0m\u001b[0;34m)\u001b[0m\u001b[0;34m.\u001b[0m\u001b[0msplit\u001b[0m\u001b[0;34m(\u001b[0m\u001b[0;34m)\u001b[0m\u001b[0;34m)\u001b[0m\u001b[0;34m)\u001b[0m\u001b[0;34m\u001b[0m\u001b[0;34m\u001b[0m\u001b[0m\n\u001b[0m\u001b[1;32m      3\u001b[0m \u001b[0mprint\u001b[0m\u001b[0;34m(\u001b[0m\u001b[0mlist\u001b[0m\u001b[0;34m(\u001b[0m\u001b[0maccumulate\u001b[0m\u001b[0;34m(\u001b[0m\u001b[0mnums\u001b[0m\u001b[0;34m)\u001b[0m\u001b[0;34m)\u001b[0m\u001b[0;34m)\u001b[0m\u001b[0;34m\u001b[0m\u001b[0;34m\u001b[0m\u001b[0m\n",
            "\u001b[0;31mTypeError\u001b[0m: 'list' object is not callable"
          ]
        }
      ],
      "source": [
        "from itertools import accumulate\n",
        "nums = list(map(int, input().split()))\n",
        "print(list(accumulate(nums)))\n"
      ]
    },
    {
      "cell_type": "markdown",
      "source": [],
      "metadata": {
        "id": "RGUruvNVHKIw"
      }
    },
    {
      "cell_type": "markdown",
      "source": [
        "a = 10\n",
        "b = 20\n",
        "a,b = b,a\n",
        "print(a)\n",
        "print(b)"
      ],
      "metadata": {
        "id": "sBv93KVV98qM"
      }
    },
    {
      "cell_type": "code",
      "source": [
        "a = 10\n",
        "b = 20\n",
        "a,b = b,a\n",
        "print(a)\n",
        "print(b)\n"
      ],
      "metadata": {
        "colab": {
          "base_uri": "https://localhost:8080/"
        },
        "id": "-iKB9-y8-9-M",
        "outputId": "b56f6be9-1c31-4c5b-b366-1f16311305ed"
      },
      "execution_count": null,
      "outputs": [
        {
          "output_type": "stream",
          "name": "stdout",
          "text": [
            "20\n",
            "10\n"
          ]
        }
      ]
    },
    {
      "cell_type": "code",
      "source": [
        "thor_score=1000\n",
        "hulk_score=2000\n",
        "hulk_score,thor_score=hulk_score,thor_score\n",
        "print(hulk_score)\n",
        "print(thor_score)"
      ],
      "metadata": {
        "colab": {
          "base_uri": "https://localhost:8080/"
        },
        "id": "D1pC79Bx_lMz",
        "outputId": "aee4ad5a-baa8-408a-a2d6-0a77c2f5f305"
      },
      "execution_count": null,
      "outputs": [
        {
          "output_type": "stream",
          "name": "stdout",
          "text": [
            "2000\n",
            "1000\n"
          ]
        }
      ]
    },
    {
      "cell_type": "code",
      "source": [
        "hulk_strength=\"1000\"\n",
        "p = int(hulk_strength)\n",
        "print(p+200)"
      ],
      "metadata": {
        "colab": {
          "base_uri": "https://localhost:8080/"
        },
        "id": "mjl3shiGAjva",
        "outputId": "39f1f567-ef22-4638-a9c3-51e60181b3e8"
      },
      "execution_count": null,
      "outputs": [
        {
          "output_type": "stream",
          "name": "stdout",
          "text": [
            "1200\n"
          ]
        }
      ]
    },
    {
      "cell_type": "markdown",
      "source": [
        "1.loki gets input in seconds (as strings) : \"3600\" .convert it into an integer and then to hours. show final results as a float\n",
        "\n",
        "2iron man recorded 7 hits out of 10 shots(both integers) .convert them into float and calculate accuracy percentage."
      ],
      "metadata": {
        "id": "xLNQmEfZBI3y"
      }
    },
    {
      "cell_type": "code",
      "source": [
        "hits,total_shots=7,10\n",
        "acc = float(7/10)*100\n",
        "print(\"Acc % is : \",acc)\n",
        "print(f\"Acc: {acc:.2f}%\")"
      ],
      "metadata": {
        "colab": {
          "base_uri": "https://localhost:8080/"
        },
        "id": "aCePkYHDCN8j",
        "outputId": "fb35971c-2e19-477a-fa64-1bb9cbdaf904"
      },
      "execution_count": null,
      "outputs": [
        {
          "output_type": "stream",
          "name": "stdout",
          "text": [
            "Acc % is :  70.0\n",
            "Acc: 70.00%\n"
          ]
        }
      ]
    },
    {
      "cell_type": "code",
      "source": [
        "loki = \"3600\"\n",
        "hours = int(loki)/3600\n",
        "print(\"hour :\", float(hours))"
      ],
      "metadata": {
        "colab": {
          "base_uri": "https://localhost:8080/"
        },
        "id": "2ybTIZ8vDD1N",
        "outputId": "d27f7a07-5d5a-47f2-aa2a-3e740db74759"
      },
      "execution_count": null,
      "outputs": [
        {
          "output_type": "stream",
          "name": "stdout",
          "text": [
            "hour : 1.0\n"
          ]
        }
      ]
    },
    {
      "cell_type": "markdown",
      "source": [
        "object **referencing**  1.  python variable hold references to objects,not the actual object themselves"
      ],
      "metadata": {
        "id": "YoGV07aIEWq0"
      }
    },
    {
      "cell_type": "markdown",
      "source": [],
      "metadata": {
        "id": "vWQTq_dYF0oW"
      }
    },
    {
      "cell_type": "code",
      "source": [
        "a =[1,2,3]\n",
        "b = a\n",
        "print(f\"a :{a}\")\n",
        "b.append(4)\n",
        "print(f\"a :{a}\")\n",
        "print(f\"b :{b}\")"
      ],
      "metadata": {
        "colab": {
          "base_uri": "https://localhost:8080/"
        },
        "id": "jQhgtC3uGiqU",
        "outputId": "1f7d8578-a28e-4eae-ac09-d25416444fcf"
      },
      "execution_count": null,
      "outputs": [
        {
          "output_type": "stream",
          "name": "stdout",
          "text": [
            "a :[1, 2, 3]\n",
            "a :[1, 2, 3, 4]\n",
            "b :[1, 2, 3, 4]\n"
          ]
        }
      ]
    },
    {
      "cell_type": "code",
      "source": [
        "a =[1,2,3]\n",
        "b=a\n",
        "b=[4,5,6]\n",
        "print(f\"a :{a}\")\n",
        "print(f\"b :{b}\")\n"
      ],
      "metadata": {
        "colab": {
          "base_uri": "https://localhost:8080/"
        },
        "id": "Uy3E61uVHFhD",
        "outputId": "9cb05248-73c3-41cd-ccb2-c0d667f954c6"
      },
      "execution_count": null,
      "outputs": [
        {
          "output_type": "stream",
          "name": "stdout",
          "text": [
            "a :[1, 2, 3]\n",
            "b :[4, 5, 6]\n"
          ]
        }
      ]
    },
    {
      "cell_type": "markdown",
      "source": [
        "reassign\n",
        "**bold text**"
      ],
      "metadata": {
        "id": "GrCk4QK0Fqg4"
      }
    },
    {
      "cell_type": "markdown",
      "source": [
        "reassigning a variable doesn't affect other variable referencing the same object unless explicitly updated."
      ],
      "metadata": {
        "id": "-5NOYiwnHc2a"
      }
    },
    {
      "cell_type": "code",
      "source": [
        "shield = ['vibranium','round']\n",
        "copy_shield = shield\n",
        "print(\"original shield is\",shield)\n",
        "print(\"Wolverine changes the materials of shield.\")\n",
        "copy_shield[0] ='adamantium'\n",
        "print(\"New_shield\",shield)\n"
      ],
      "metadata": {
        "colab": {
          "base_uri": "https://localhost:8080/"
        },
        "id": "BsiBdfLOH1ph",
        "outputId": "d768963f-f456-474b-9fcd-c26bccd3c27a"
      },
      "execution_count": null,
      "outputs": [
        {
          "output_type": "stream",
          "name": "stdout",
          "text": [
            "original shield is ['vibranium', 'round']\n",
            "Wolverine changes the materials of shield.\n",
            "New_shield ['adamantium', 'round']\n"
          ]
        }
      ]
    },
    {
      "cell_type": "markdown",
      "source": [
        "removing a variable"
      ],
      "metadata": {
        "id": "mHJnBcEBLDws"
      }
    },
    {
      "cell_type": "code",
      "source": [
        "a =10\n",
        "del(a)\n",
        "print(\"a :\",a)\n"
      ],
      "metadata": {
        "colab": {
          "base_uri": "https://localhost:8080/",
          "height": 176
        },
        "id": "UwgINny1LL3d",
        "outputId": "7b2fe724-661f-480c-94fe-1c1059b028d4"
      },
      "execution_count": null,
      "outputs": [
        {
          "output_type": "error",
          "ename": "NameError",
          "evalue": "name 'a' is not defined",
          "traceback": [
            "\u001b[0;31m---------------------------------------------------------------------------\u001b[0m",
            "\u001b[0;31mNameError\u001b[0m                                 Traceback (most recent call last)",
            "\u001b[0;32m/tmp/ipython-input-3379880489.py\u001b[0m in \u001b[0;36m<cell line: 0>\u001b[0;34m()\u001b[0m\n\u001b[1;32m      1\u001b[0m \u001b[0ma\u001b[0m \u001b[0;34m=\u001b[0m\u001b[0;36m10\u001b[0m\u001b[0;34m\u001b[0m\u001b[0;34m\u001b[0m\u001b[0m\n\u001b[1;32m      2\u001b[0m \u001b[0;32mdel\u001b[0m\u001b[0;34m(\u001b[0m\u001b[0ma\u001b[0m\u001b[0;34m)\u001b[0m\u001b[0;34m\u001b[0m\u001b[0;34m\u001b[0m\u001b[0m\n\u001b[0;32m----> 3\u001b[0;31m \u001b[0mprint\u001b[0m\u001b[0;34m(\u001b[0m\u001b[0;34m\"a :\"\u001b[0m\u001b[0;34m,\u001b[0m\u001b[0ma\u001b[0m\u001b[0;34m)\u001b[0m\u001b[0;34m\u001b[0m\u001b[0;34m\u001b[0m\u001b[0m\n\u001b[0m",
            "\u001b[0;31mNameError\u001b[0m: name 'a' is not defined"
          ]
        }
      ]
    },
    {
      "cell_type": "markdown",
      "source": [],
      "metadata": {
        "id": "gKyT-BhTLYRW"
      }
    },
    {
      "cell_type": "code",
      "source": [
        "l = ['apple','banana','orange','grapes','pear']\n",
        "del l[0]\n",
        "print(\"list\",l)\n",
        "del l[2:4]\n",
        "print(\"list after slicing\",l)"
      ],
      "metadata": {
        "colab": {
          "base_uri": "https://localhost:8080/"
        },
        "id": "gu5CC6lfLZlC",
        "outputId": "68533d85-2ede-4848-a782-97ccc53a28f8"
      },
      "execution_count": null,
      "outputs": [
        {
          "output_type": "stream",
          "name": "stdout",
          "text": [
            "list ['banana', 'orange', 'grapes', 'pear']\n",
            "list after slicing ['banana', 'orange']\n"
          ]
        }
      ]
    },
    {
      "cell_type": "markdown",
      "source": [
        "slicing\n"
      ],
      "metadata": {
        "id": "WX13WKbEMSzj"
      }
    },
    {
      "cell_type": "markdown",
      "source": [
        "cal. average of the power level of your favorite avengers"
      ],
      "metadata": {
        "id": "G8LolLVNAmhC"
      }
    },
    {
      "cell_type": "code",
      "source": [
        "power_level = [90,80,88.0,98.0,100]\n",
        "average = round(sum(power_level) / len(power_level),2)\n",
        "print(average)"
      ],
      "metadata": {
        "colab": {
          "base_uri": "https://localhost:8080/"
        },
        "id": "P1IPovsRA1aq",
        "outputId": "5c368f46-ced6-48d0-e2ac-5643f8a8a3c6"
      },
      "execution_count": null,
      "outputs": [
        {
          "output_type": "stream",
          "name": "stdout",
          "text": [
            "91.2\n"
          ]
        }
      ]
    },
    {
      "cell_type": "markdown",
      "source": [
        "Interview Tip:-You must validate your input data and empty or incorrect datatype can collapsed even the strongest algorithm\n",
        "Never understimate the input validation."
      ],
      "metadata": {
        "id": "_EFHDPm8DrcT"
      }
    },
    {
      "cell_type": "markdown",
      "source": [
        "#String datatype"
      ],
      "metadata": {
        "id": "FOhOCwYAHNUs"
      }
    },
    {
      "cell_type": "markdown",
      "source": [
        "1. Ordered collection of characters arranged in a sequence.\n",
        "2.Strings are arrays of bytes representes in Unicode characters.\n",
        "3.No separate charactes. Character is length of one.\n",
        "4.String is represented using ' ' or \" \" or '''  '''\n",
        "5.It is immutable and starts with index 0."
      ],
      "metadata": {
        "id": "FQGjF74SHeMd"
      }
    },
    {
      "cell_type": "code",
      "source": [
        "S1 = \"This is a string\"\n",
        "print(S1)"
      ],
      "metadata": {
        "colab": {
          "base_uri": "https://localhost:8080/"
        },
        "id": "SkteWf4WIZsl",
        "outputId": "f04e53af-c329-4124-a5f9-2d993beb9d14"
      },
      "execution_count": null,
      "outputs": [
        {
          "output_type": "stream",
          "name": "stdout",
          "text": [
            "This is a string\n"
          ]
        }
      ]
    },
    {
      "cell_type": "code",
      "source": [
        "S1 = \"This is a string\"\n",
        "S2 = \"This \" + \"is \" + 'also ' + '''a ''' + \"\"\"string \"\"\"\n",
        "S3 = \"This\" +\" \"+ \"is \" +\" \"+ 'also ' +' '+ '''a ''' + \"\"\"string \"\"\"\n",
        "S4 =\"This is an example of \\\n",
        "Single line string written across multiple lines.\"\n",
        "print(S1)\n",
        "print(S2)\n",
        "print(S3)\n",
        "print(S4)"
      ],
      "metadata": {
        "colab": {
          "base_uri": "https://localhost:8080/"
        },
        "id": "dzpkDrM0IvXy",
        "outputId": "945bd310-d78a-4ecf-ca68-2ef2809a3f7e"
      },
      "execution_count": null,
      "outputs": [
        {
          "output_type": "stream",
          "name": "stdout",
          "text": [
            "This is a string\n",
            "This is also a string \n",
            "This is  also  a string \n",
            "This is an example of Single line string written across multiple lines.\n"
          ]
        }
      ]
    },
    {
      "cell_type": "code",
      "source": [
        "hulk = \"Hilk : SMASH!!\\n\"\n",
        "print(hulk * 3)"
      ],
      "metadata": {
        "colab": {
          "base_uri": "https://localhost:8080/"
        },
        "id": "c9N66IPNKkPa",
        "outputId": "28d86b60-04fb-4480-a829-1a15eb2efd3b"
      },
      "execution_count": null,
      "outputs": [
        {
          "output_type": "stream",
          "name": "stdout",
          "text": [
            "Hilk : SMASH!!\n",
            "Hilk : SMASH!!\n",
            "Hilk : SMASH!!\n",
            "\n"
          ]
        }
      ]
    },
    {
      "cell_type": "markdown",
      "source": [],
      "metadata": {
        "id": "4M_N228zMt-E"
      }
    },
    {
      "cell_type": "code",
      "source": [],
      "metadata": {
        "id": "uEeS2mxcMxRx"
      },
      "execution_count": null,
      "outputs": []
    },
    {
      "cell_type": "markdown",
      "source": [
        "String can be repeated by multiplying it by an integer."
      ],
      "metadata": {
        "id": "Eg-oEwbWHfgo"
      }
    },
    {
      "cell_type": "code",
      "source": [],
      "metadata": {
        "id": "zyKo_o2WLM3U"
      },
      "execution_count": null,
      "outputs": []
    },
    {
      "cell_type": "markdown",
      "source": [],
      "metadata": {
        "id": "szb4m-xgM-Xw"
      }
    },
    {
      "cell_type": "code",
      "source": [
        "iron_man = \"Avengers Assemble! #This is not a comment\"\n",
        "iron_man = \"Mission ID : #100\" #including (#) symbol into a string"
      ],
      "metadata": {
        "id": "qX0J4rM7MxyT"
      },
      "execution_count": null,
      "outputs": []
    },
    {
      "cell_type": "markdown",
      "source": [],
      "metadata": {
        "id": "6dGk7qJ7O3Zi"
      }
    },
    {
      "cell_type": "code",
      "source": [
        "#length of a string\n",
        "avenger = \"IRONMAN\"\n",
        "avenger1 = \"IRON MAN\"\n",
        "length_av2 = len(avenger1)\n",
        "first_ch = avenger[0]\n",
        "last_ch = avenger[-0] #0 and -0 are same in python\n",
        "\n",
        "print(length_av2)\n",
        "print(length_av2)\n",
        "print(first_ch)\n",
        "print(last_ch)\n",
        "print(slicing)"
      ],
      "metadata": {
        "colab": {
          "base_uri": "https://localhost:8080/",
          "height": 211
        },
        "id": "zFYgr5dQNWTC",
        "outputId": "81e6df13-8b81-4d78-c5f7-406ca9c7da7b"
      },
      "execution_count": null,
      "outputs": [
        {
          "output_type": "error",
          "ename": "NameError",
          "evalue": "name 'averager1' is not defined",
          "traceback": [
            "\u001b[0;31m---------------------------------------------------------------------------\u001b[0m",
            "\u001b[0;31mNameError\u001b[0m                                 Traceback (most recent call last)",
            "\u001b[0;32m/tmp/ipython-input-646886348.py\u001b[0m in \u001b[0;36m<cell line: 0>\u001b[0;34m()\u001b[0m\n\u001b[1;32m      5\u001b[0m \u001b[0mfirst_ch\u001b[0m \u001b[0;34m=\u001b[0m \u001b[0mavenger\u001b[0m\u001b[0;34m[\u001b[0m\u001b[0;36m0\u001b[0m\u001b[0;34m]\u001b[0m\u001b[0;34m\u001b[0m\u001b[0;34m\u001b[0m\u001b[0m\n\u001b[1;32m      6\u001b[0m \u001b[0mlast_ch\u001b[0m \u001b[0;34m=\u001b[0m \u001b[0mavenger\u001b[0m\u001b[0;34m[\u001b[0m\u001b[0;34m-\u001b[0m\u001b[0;36m0\u001b[0m\u001b[0;34m]\u001b[0m \u001b[0;31m#0 and -0 are same in python\u001b[0m\u001b[0;34m\u001b[0m\u001b[0;34m\u001b[0m\u001b[0m\n\u001b[0;32m----> 7\u001b[0;31m \u001b[0mslicing\u001b[0m \u001b[0;34m=\u001b[0m \u001b[0maverager1\u001b[0m\u001b[0;34m[\u001b[0m\u001b[0;36m4\u001b[0m\u001b[0;34m:\u001b[0m\u001b[0;36m9\u001b[0m\u001b[0;34m]\u001b[0m\u001b[0;34m\u001b[0m\u001b[0;34m\u001b[0m\u001b[0m\n\u001b[0m\u001b[1;32m      8\u001b[0m \u001b[0mprint\u001b[0m\u001b[0;34m(\u001b[0m\u001b[0mlength_av2\u001b[0m\u001b[0;34m)\u001b[0m\u001b[0;34m\u001b[0m\u001b[0;34m\u001b[0m\u001b[0m\n\u001b[1;32m      9\u001b[0m \u001b[0mprint\u001b[0m\u001b[0;34m(\u001b[0m\u001b[0mlength_av2\u001b[0m\u001b[0;34m)\u001b[0m\u001b[0;34m\u001b[0m\u001b[0;34m\u001b[0m\u001b[0m\n",
            "\u001b[0;31mNameError\u001b[0m: name 'averager1' is not defined"
          ]
        }
      ]
    },
    {
      "cell_type": "code",
      "source": [
        "avenger = \"IRON MAN\"\n",
        "slicing = avenger[4:7]\n",
        "print(slicing)"
      ],
      "metadata": {
        "colab": {
          "base_uri": "https://localhost:8080/"
        },
        "id": "MjVDDKlEPkpC",
        "outputId": "9e520cd4-14b7-49cc-81d1-1cbef6b15dde"
      },
      "execution_count": null,
      "outputs": [
        {
          "output_type": "stream",
          "name": "stdout",
          "text": [
            " MA\n"
          ]
        }
      ]
    },
    {
      "cell_type": "code",
      "source": [
        "avenger = \"IRON MAN\"\n",
        "reverse = avenger[8:0:-1]\n",
        "for _ in avenger:\n",
        "  print(_,end = '*')\n",
        "print(reverse)"
      ],
      "metadata": {
        "colab": {
          "base_uri": "https://localhost:8080/"
        },
        "id": "gFIQ9ax4OBXB",
        "outputId": "6f7f1ca1-046e-4aa5-d773-a0a3ec5df1a1"
      },
      "execution_count": null,
      "outputs": [
        {
          "output_type": "stream",
          "name": "stdout",
          "text": [
            "I*R*O*N* *M*A*N*NAM NOR\n"
          ]
        }
      ]
    },
    {
      "cell_type": "code",
      "source": [],
      "metadata": {
        "id": "lmo97VLmTc_w"
      },
      "execution_count": null,
      "outputs": []
    },
    {
      "cell_type": "code",
      "source": [
        "avenger = \"IRON MAN\"\n",
        "a = avenger[:6]\n",
        "a1 = avenger[-6:]\n",
        "print(a)\n",
        "print(a1)"
      ],
      "metadata": {
        "colab": {
          "base_uri": "https://localhost:8080/"
        },
        "id": "bBHWYcj2Rzfl",
        "outputId": "90ef5bac-288a-4988-9df3-d388abbd95d5"
      },
      "execution_count": null,
      "outputs": [
        {
          "output_type": "stream",
          "name": "stdout",
          "text": [
            "IRON M\n",
            "ON MAN\n"
          ]
        }
      ]
    },
    {
      "cell_type": "markdown",
      "source": [
        "write a python program to selct the part  (middle) of the sequences.This seq are the tokens of text eg.\n",
        "token = [\"IronMan\",\"saves\",\"the\",\"world\",\"again\"]"
      ],
      "metadata": {
        "id": "KJNnW7DWSNMt"
      }
    },
    {
      "cell_type": "markdown",
      "source": [
        "slicing concept is useful in text preprocessing NLP\n",
        "2. it is also used in feature extraction and seq model\n",
        "eg.: RNN,transformer"
      ],
      "metadata": {
        "id": "191HpCluT9VN"
      }
    },
    {
      "cell_type": "code",
      "source": [
        "token = [\"IronMan\",\"saves\",\"the\",\"world\",\"again\"]\n",
        "middle = token[len(token)//2 - (1 if len(token)%2==0 else 0) : len(token)//2 + 1]\n",
        "print(middle)\n",
        "\n"
      ],
      "metadata": {
        "colab": {
          "base_uri": "https://localhost:8080/"
        },
        "id": "x918f-_-Td2p",
        "outputId": "ced563c5-85ed-4137-a34f-91a09e6af180"
      },
      "execution_count": null,
      "outputs": [
        {
          "output_type": "stream",
          "name": "stdout",
          "text": [
            "['the']\n"
          ]
        }
      ]
    },
    {
      "cell_type": "markdown",
      "source": [
        "bool data type\n"
      ],
      "metadata": {
        "id": "mW14rM8yAjsM"
      }
    },
    {
      "cell_type": "code",
      "source": [
        "print(10>9<5)"
      ],
      "metadata": {
        "colab": {
          "base_uri": "https://localhost:8080/"
        },
        "id": "OIDn-qxPAmhd",
        "outputId": "a358f1b5-ce1e-4fd8-8419-a0e45a96ffaf"
      },
      "execution_count": null,
      "outputs": [
        {
          "output_type": "stream",
          "name": "stdout",
          "text": [
            "False\n"
          ]
        }
      ]
    },
    {
      "cell_type": "code",
      "source": [
        "print(10>9 or 9>8)"
      ],
      "metadata": {
        "colab": {
          "base_uri": "https://localhost:8080/"
        },
        "id": "huMU7sWZA0nL",
        "outputId": "9394b93b-ead5-44b3-ccd6-7e562813f44c"
      },
      "execution_count": null,
      "outputs": [
        {
          "output_type": "stream",
          "name": "stdout",
          "text": [
            "True\n"
          ]
        }
      ]
    },
    {
      "cell_type": "code",
      "source": [
        "# print(10>9 and 10<9)\n",
        "# print( not 10>9 )\n",
        "x =10\n",
        "y =20\n",
        "print(x^y)"
      ],
      "metadata": {
        "colab": {
          "base_uri": "https://localhost:8080/"
        },
        "id": "fqwCXv6wBAH6",
        "outputId": "169f5923-d3bb-4a8e-df4e-4bf973ca5b07"
      },
      "execution_count": null,
      "outputs": [
        {
          "output_type": "stream",
          "name": "stdout",
          "text": [
            "30\n"
          ]
        }
      ]
    },
    {
      "cell_type": "code",
      "source": [
        "x = 10\n",
        "y = 20\n",
        "x = x ^ y\n",
        "y = x ^ y\n",
        "x = x ^ y\n",
        "print(\"x is\",x)\n",
        "print(\"y is\",y)"
      ],
      "metadata": {
        "colab": {
          "base_uri": "https://localhost:8080/"
        },
        "id": "8YmFykypD7jF",
        "outputId": "e7da1e8e-6bf4-41fc-ed3a-49c93178339e"
      },
      "execution_count": null,
      "outputs": [
        {
          "output_type": "stream",
          "name": "stdout",
          "text": [
            "x is  20\n",
            "y is  10\n"
          ]
        }
      ]
    },
    {
      "cell_type": "markdown",
      "source": [
        "1.find the xor of number 10,12\n",
        "2.check odd or even a = 4, b =7\n",
        "\n",
        "\n",
        "\n"
      ],
      "metadata": {
        "id": "gRsKI5s2FQma"
      }
    },
    {
      "cell_type": "code",
      "source": [
        "print(10^12)"
      ],
      "metadata": {
        "colab": {
          "base_uri": "https://localhost:8080/"
        },
        "id": "f3XVpi8NFPMS",
        "outputId": "98f0013a-8e22-4693-cfe0-9269797e5b64"
      },
      "execution_count": null,
      "outputs": [
        {
          "output_type": "stream",
          "name": "stdout",
          "text": [
            "6\n"
          ]
        }
      ]
    },
    {
      "cell_type": "code",
      "source": [
        "a = 4\n",
        "b = 7\n",
        "print(\"even\" if (a^b)%2 == 0 else \"odd\")"
      ],
      "metadata": {
        "colab": {
          "base_uri": "https://localhost:8080/"
        },
        "id": "aK7WByD0FlO-",
        "outputId": "76eb0993-a916-49b7-c21e-0790f38ae1ec"
      },
      "execution_count": null,
      "outputs": [
        {
          "output_type": "stream",
          "name": "stdout",
          "text": [
            "odd\n"
          ]
        }
      ]
    },
    {
      "cell_type": "code",
      "source": [
        "l = [4,1,2,1,2]\n",
        "a = 0\n",
        "for i in l:\n",
        "  a ^= i\n",
        "print(a)"
      ],
      "metadata": {
        "colab": {
          "base_uri": "https://localhost:8080/"
        },
        "id": "TbySIfnHF6-a",
        "outputId": "1759e5b3-b7ce-4a87-f401-8dd8a4953440"
      },
      "execution_count": null,
      "outputs": [
        {
          "output_type": "stream",
          "name": "stdout",
          "text": [
            "4\n"
          ]
        }
      ]
    },
    {
      "cell_type": "code",
      "source": [
        "print(True+False)"
      ],
      "metadata": {
        "colab": {
          "base_uri": "https://localhost:8080/"
        },
        "id": "Ph2UP0EMIt7F",
        "outputId": "c15fa630-e94f-49f8-c2f8-f0b56fe8f53f"
      },
      "execution_count": null,
      "outputs": [
        {
          "output_type": "stream",
          "name": "stdout",
          "text": [
            "1\n"
          ]
        }
      ]
    },
    {
      "cell_type": "markdown",
      "source": [
        "XOR - It is used in encryption"
      ],
      "metadata": {
        "id": "MwvadmL7Izsc"
      }
    },
    {
      "cell_type": "code",
      "source": [
        "print(bool([]))"
      ],
      "metadata": {
        "colab": {
          "base_uri": "https://localhost:8080/"
        },
        "id": "fNB0WewwJBb_",
        "outputId": "34331182-bdbe-42df-fb64-7fbcee117318"
      },
      "execution_count": null,
      "outputs": [
        {
          "output_type": "stream",
          "name": "stdout",
          "text": [
            "False\n"
          ]
        }
      ]
    },
    {
      "cell_type": "markdown",
      "source": [
        "bool is used to check emptyness"
      ],
      "metadata": {
        "id": "Bq6Gw-eDJP31"
      }
    },
    {
      "cell_type": "code",
      "source": [
        "print(any([1,2,3]))"
      ],
      "metadata": {
        "colab": {
          "base_uri": "https://localhost:8080/"
        },
        "id": "CwA8HekjJTyQ",
        "outputId": "2ed1d62f-2b41-4fb6-c39b-0a387aeeeea1"
      },
      "execution_count": null,
      "outputs": [
        {
          "output_type": "stream",
          "name": "stdout",
          "text": [
            "True\n"
          ]
        }
      ]
    },
    {
      "cell_type": "code",
      "source": [
        "marks = [65,70,80,95]\n",
        "print(any(m>=90 for m in marks))"
      ],
      "metadata": {
        "colab": {
          "base_uri": "https://localhost:8080/"
        },
        "id": "KNiNlMtyKyWh",
        "outputId": "d989298a-f69d-4fbd-ddc4-3ca3b091030f"
      },
      "execution_count": null,
      "outputs": [
        {
          "output_type": "stream",
          "name": "stdout",
          "text": [
            "True\n"
          ]
        }
      ]
    },
    {
      "cell_type": "markdown",
      "source": [
        "#operator\n"
      ],
      "metadata": {
        "id": "NRj77joMRo0S"
      }
    },
    {
      "cell_type": "code",
      "source": [
        "a = -10//3\n",
        "b -= 5\n",
        "c = 2\n",
        "c += 4\n",
        "d = 2\n",
        "d *= 3\n",
        "\n",
        "print(a)"
      ],
      "metadata": {
        "colab": {
          "base_uri": "https://localhost:8080/"
        },
        "id": "wb3ucyFZRrSf",
        "outputId": "25130feb-d60d-4180-913e-d60657e8a756"
      },
      "execution_count": null,
      "outputs": [
        {
          "output_type": "stream",
          "name": "stdout",
          "text": [
            "25\n"
          ]
        }
      ]
    },
    {
      "cell_type": "markdown",
      "source": [
        "1.exponential application - calculate area , growth of population\n",
        "2.modulo application - cryptography\n",
        "3. assciativity case - left to right"
      ],
      "metadata": {
        "id": "ilfYOizVTkO7"
      }
    },
    {
      "cell_type": "markdown",
      "source": [
        "#Assignment Operator\n"
      ],
      "metadata": {
        "id": "GVmFKBplVxF6"
      }
    },
    {
      "cell_type": "code",
      "source": [
        "a = [1,2]\n",
        "b = a\n",
        "a +=[3]\n",
        "print(b)\n",
        "x = 5\n",
        "x ^= 3\n",
        "# print(x := 3)\n",
        "print(x)\n",
        "f = 5\n",
        "print(f>>1)\n",
        "print(f<<1)\n",
        "print(x := 3)\n"
      ],
      "metadata": {
        "colab": {
          "base_uri": "https://localhost:8080/"
        },
        "id": "PU5taJNLXm19",
        "outputId": "620af37d-6fe3-42ac-d349-b470a4ec7a56"
      },
      "execution_count": null,
      "outputs": [
        {
          "output_type": "stream",
          "name": "stdout",
          "text": [
            "[1, 2, 3]\n",
            "6\n",
            "2\n",
            "10\n",
            "3\n"
          ]
        }
      ]
    },
    {
      "cell_type": "code",
      "source": [
        "x = 10\n",
        "y = 20\n",
        "a = x or y\n",
        "print(a)\n",
        "print([] or \"Hi\")"
      ],
      "metadata": {
        "colab": {
          "base_uri": "https://localhost:8080/"
        },
        "id": "GsC5lFhuUkCe",
        "outputId": "d631e063-d386-413b-e972-7cdcd1e7ac60"
      },
      "execution_count": null,
      "outputs": [
        {
          "output_type": "stream",
          "name": "stdout",
          "text": [
            "10\n",
            "Hi\n"
          ]
        }
      ]
    },
    {
      "cell_type": "code",
      "source": [
        "# Arithmetic Operators\n",
        "a, b = 10, 3\n",
        "print(\"Addition:\", a + b)        # +\n",
        "print(\"Subtraction:\", a - b)     # -\n",
        "print(\"Multiplication:\", a * b)  # *\n",
        "print(\"Division:\", a / b)        # /\n",
        "print(\"Floor Division:\", a // b) # //\n",
        "print(\"Modulus:\", a % b)         # %\n",
        "print(\"Exponentiation:\", a ** b) # **"
      ],
      "metadata": {
        "id": "dh9yrY46TuGK",
        "colab": {
          "base_uri": "https://localhost:8080/"
        },
        "outputId": "395fad33-2ca3-4bc3-b478-691469db2027"
      },
      "execution_count": null,
      "outputs": [
        {
          "output_type": "stream",
          "name": "stdout",
          "text": [
            "Addition: 13\n",
            "Subtraction: 7\n",
            "Multiplication: 30\n",
            "Division: 3.3333333333333335\n",
            "Floor Division: 3\n",
            "Modulus: 1\n",
            "Exponentiation: 1000\n"
          ]
        }
      ]
    },
    {
      "cell_type": "code",
      "source": [
        "# Comparison Operators\n",
        "a = 5\n",
        "b = 7\n",
        "print(\"Equal:\", a == b)          # ==\n",
        "print(\"Not Equal:\", a != b)      # !=\n",
        "print(\"Greater Than:\", a > b)    # >\n",
        "print(\"Less Than:\", a < b)       # <\n",
        "print(\"Greater or Equal:\", a >= b) # >=\n",
        "print(\"Less or Equal:\", a <= b)    # <=\n"
      ],
      "metadata": {
        "id": "-IkayQNNRoa9",
        "colab": {
          "base_uri": "https://localhost:8080/"
        },
        "outputId": "6c62b535-baf4-42af-df1f-992c1a5ba297"
      },
      "execution_count": null,
      "outputs": [
        {
          "output_type": "stream",
          "name": "stdout",
          "text": [
            "Equal: False\n",
            "Not Equal: True\n",
            "Greater Than: False\n",
            "Less Than: True\n",
            "Greater or Equal: False\n",
            "Less or Equal: True\n"
          ]
        }
      ]
    },
    {
      "cell_type": "code",
      "source": [
        "# Logical Operators\n",
        "x, y = True, False\n",
        "print(\"AND:\", x and y)           # and\n",
        "print(\"OR:\", x or y)             # or\n",
        "print(\"NOT:\", not x)             # not"
      ],
      "metadata": {
        "colab": {
          "base_uri": "https://localhost:8080/"
        },
        "id": "vaw-F3BsXUwg",
        "outputId": "823061cc-a275-42ed-abe1-d3bfc0e1801e"
      },
      "execution_count": null,
      "outputs": [
        {
          "output_type": "stream",
          "name": "stdout",
          "text": [
            "AND: False\n",
            "OR: True\n",
            "NOT: False\n"
          ]
        }
      ]
    },
    {
      "cell_type": "code",
      "source": [
        "# Bitwise Operators\n",
        "a = 5\n",
        "b = 7\n",
        "print(\"Bitwise AND:\", a & b)     # &\n",
        "print(\"Bitwise OR:\", a | b)      # |\n",
        "print(\"Bitwise XOR:\", a ^ b)     # ^\n",
        "print(\"Bitwise NOT:\", ~a)        # ~\n",
        "print(\"Left Shift:\", a << 1)     # <<\n",
        "print(\"Right Shift:\", a >> 1)    # >>"
      ],
      "metadata": {
        "colab": {
          "base_uri": "https://localhost:8080/"
        },
        "id": "woiIrLFRXZeX",
        "outputId": "2c8b8ccb-a50a-4f57-ecfd-d583a19a1de2"
      },
      "execution_count": null,
      "outputs": [
        {
          "output_type": "stream",
          "name": "stdout",
          "text": [
            "Bitwise AND: 5\n",
            "Bitwise OR: 7\n",
            "Bitwise XOR: 2\n",
            "Bitwise NOT: -6\n",
            "Left Shift: 10\n",
            "Right Shift: 2\n"
          ]
        }
      ]
    },
    {
      "cell_type": "code",
      "source": [
        "# Assignment Operators\n",
        "c = 5\n",
        "c += 2   # c = c + 2\n",
        "# c -= 1   # c = c - 1\n",
        "# c *= 3   # c = c * 3\n",
        "# c /= 2   # c = c / 2\n",
        "# c %= 3   # c = c % 3\n",
        "# c **= 2  # c = c ** 2\n",
        "# c //= 2  # c = c // 2\n",
        "print(\"Final value of c:\", c)"
      ],
      "metadata": {
        "colab": {
          "base_uri": "https://localhost:8080/"
        },
        "id": "qyj88DrPXfIh",
        "outputId": "50177c44-8f01-4fac-db8f-2dbec376ce22"
      },
      "execution_count": null,
      "outputs": [
        {
          "output_type": "stream",
          "name": "stdout",
          "text": [
            "Final value of c: 7\n"
          ]
        }
      ]
    },
    {
      "cell_type": "code",
      "source": [
        "# Ternary Operator\n",
        "a = 5\n",
        "b = 7\n",
        "max_val = a if a > b else b\n",
        "print(\"Max using ternary:\", max_val)"
      ],
      "metadata": {
        "colab": {
          "base_uri": "https://localhost:8080/"
        },
        "id": "92aNlaFEXv_D",
        "outputId": "9a18b49d-99f9-44c0-c1eb-f5264ea31295"
      },
      "execution_count": null,
      "outputs": [
        {
          "output_type": "stream",
          "name": "stdout",
          "text": [
            "Max using ternary: 7\n"
          ]
        }
      ]
    },
    {
      "cell_type": "code",
      "source": [
        "# Operator Overloading Example\n",
        "class Point:\n",
        "    def __init__(self, x): self.x = x\n",
        "    def __add__(self, other): return Point(self.x + other.x)\n",
        "    def __str__(self): return f\"Point({self.x})\"\n",
        "\n",
        "p1, p2 = Point(4), Point(5)\n",
        "print(\"Operator Overloading:\", p1 + p2)  # + overloaded"
      ],
      "metadata": {
        "colab": {
          "base_uri": "https://localhost:8080/"
        },
        "id": "4BvqBMAfX0Uz",
        "outputId": "9682f308-b74a-4994-b2e2-1c663b604e30"
      },
      "execution_count": null,
      "outputs": [
        {
          "output_type": "stream",
          "name": "stdout",
          "text": [
            "Operator Overloading: Point(9)\n"
          ]
        }
      ]
    },
    {
      "cell_type": "code",
      "source": [
        "a = \"NITIKA\"\n",
        "for i in a:\n",
        "  (i.lower())"
      ],
      "metadata": {
        "id": "GpdAAjfSR63U"
      },
      "execution_count": null,
      "outputs": []
    },
    {
      "cell_type": "markdown",
      "source": [
        "is return true when both objech have same memory location"
      ],
      "metadata": {
        "id": "LyYAH8BGTd0-"
      }
    },
    {
      "cell_type": "code",
      "source": [
        "Avg = ['Thor','Hulk']\n",
        "Avg1 = Avg\n",
        "print(Avg1 is Avg)"
      ],
      "metadata": {
        "colab": {
          "base_uri": "https://localhost:8080/"
        },
        "id": "jhcSBHKUTkLf",
        "outputId": "7fc7e994-e3c7-4c2c-84bc-845b15aa55e0"
      },
      "execution_count": null,
      "outputs": [
        {
          "output_type": "stream",
          "name": "stdout",
          "text": [
            "True\n"
          ]
        }
      ]
    },
    {
      "cell_type": "code",
      "source": [
        "\n",
        "x = 253\n",
        "y = 253\n",
        "print(x is y) # bound to -5 to 256(sometimes)"
      ],
      "metadata": {
        "colab": {
          "base_uri": "https://localhost:8080/"
        },
        "id": "6trZb-yjT5Of",
        "outputId": "4497d5e8-6b24-4a95-ebb5-b0ead5a005fe"
      },
      "execution_count": null,
      "outputs": [
        {
          "output_type": "stream",
          "name": "stdout",
          "text": [
            "True\n",
            "True\n"
          ]
        }
      ]
    },
    {
      "cell_type": "code",
      "source": [
        "X = ['Apple','Banana','orange']\n",
        "Y = ['Apple','Banana','orange']\n",
        "Z = X\n",
        "print(X is not Z)\n",
        "print(X != Y)"
      ],
      "metadata": {
        "colab": {
          "base_uri": "https://localhost:8080/"
        },
        "id": "NgAn5igLUVAf",
        "outputId": "bd84787f-ca90-4f8c-c51c-0f238ee20cce"
      },
      "execution_count": null,
      "outputs": [
        {
          "output_type": "stream",
          "name": "stdout",
          "text": [
            "False\n",
            "False\n"
          ]
        }
      ]
    },
    {
      "cell_type": "code",
      "source": [
        "a = \"banana\"\n",
        "print(\"nana\" in a)\n"
      ],
      "metadata": {
        "colab": {
          "base_uri": "https://localhost:8080/"
        },
        "id": "4fNvMjccWbEa",
        "outputId": "bf66387e-7c4c-4503-cffd-ffdb36b01ee6"
      },
      "execution_count": null,
      "outputs": [
        {
          "output_type": "stream",
          "name": "stdout",
          "text": [
            "True\n"
          ]
        }
      ]
    },
    {
      "cell_type": "markdown",
      "source": [
        "check if a given string only contains vowel"
      ],
      "metadata": {
        "id": "eyG8GZKXW92H"
      }
    },
    {
      "cell_type": "code",
      "source": [
        "s = \"aeiou\"\n",
        "print(True if 'a'and 'e' and 'i' and 'o' and 'u' else False)"
      ],
      "metadata": {
        "colab": {
          "base_uri": "https://localhost:8080/"
        },
        "id": "R1KNBfGlXEgY",
        "outputId": "035018e5-7be0-44df-a937-17620b832229"
      },
      "execution_count": null,
      "outputs": [
        {
          "output_type": "stream",
          "name": "stdout",
          "text": [
            "True\n"
          ]
        }
      ]
    },
    {
      "cell_type": "code",
      "source": [
        "s = input()\n",
        "vowels = set(\"aeiouAEIOU\")\n",
        "for ch in s:\n",
        "    print(f\"{ch} is vowel\" if ch in vowels else \"Not Vowel\")"
      ],
      "metadata": {
        "colab": {
          "base_uri": "https://localhost:8080/"
        },
        "id": "WdF7NFdGaRN5",
        "outputId": "a61ffa08-aa91-43da-9982-5f5a634442be"
      },
      "execution_count": null,
      "outputs": [
        {
          "output_type": "stream",
          "name": "stdout",
          "text": [
            "abcd\n",
            "a is vowel\n",
            "Not Vowel\n",
            "Not Vowel\n",
            "Not Vowel\n"
          ]
        }
      ]
    },
    {
      "cell_type": "code",
      "source": [
        "try:\n",
        "    s = input(\"Enter a string: \")\n",
        "    vowels = set(\"aeiouAEIOU\")\n",
        "    for ch in s:\n",
        "        print(f\"{ch} is vowel\" if ch in vowels else \"Not Vowel\")\n",
        "except KeyboardInterrupt:\n",
        "    print(\"\\nInput interrupted by user.\")"
      ],
      "metadata": {
        "colab": {
          "base_uri": "https://localhost:8080/"
        },
        "id": "0DM4HWqzamYa",
        "outputId": "a9fe879c-f13b-438d-c1c6-2a1ef79c4925"
      },
      "execution_count": null,
      "outputs": [
        {
          "output_type": "stream",
          "name": "stdout",
          "text": [
            "Enter a string: fdfgh\n",
            "Not Vowel\n",
            "Not Vowel\n",
            "Not Vowel\n",
            "Not Vowel\n",
            "Not Vowel\n"
          ]
        }
      ]
    },
    {
      "cell_type": "code",
      "source": [
        "Infinity_stone = [\"space\",\"reality\",\"power\",\"Mind\",\"time\",\"soul\"]  # list are mutable"
      ],
      "metadata": {
        "id": "A4iFrgbpcIe8"
      },
      "execution_count": null,
      "outputs": []
    },
    {
      "cell_type": "code",
      "source": [
        "while True:\n",
        "    value = int(input(\"Enter a number (0 to stop): \"))\n",
        "    if value == 0:\n",
        "        break\n",
        "    print(f\"You entered: {value}\")"
      ],
      "metadata": {
        "id": "cb1PMTgta57E"
      },
      "execution_count": null,
      "outputs": []
    },
    {
      "cell_type": "markdown",
      "source": [
        "#List Loop\n"
      ],
      "metadata": {
        "id": "0CxrP0KrbSHU"
      }
    },
    {
      "cell_type": "code",
      "source": [
        "hero = ['Iron-man','Hulk','Captain-america']\n",
        "for i in hero:\n",
        "  print(i)\n",
        "for i in range(len(hero)):\n",
        "    print(i,hero[i])\n"
      ],
      "metadata": {
        "id": "WoYOCZjMbT_x"
      },
      "execution_count": null,
      "outputs": []
    },
    {
      "cell_type": "code",
      "source": [
        "[print(i) for i in hero]"
      ],
      "metadata": {
        "id": "xwO8PnbgdSHA"
      },
      "execution_count": null,
      "outputs": []
    },
    {
      "cell_type": "markdown",
      "source": [
        "you need to filter  out the name of captain america that  contains the substring America"
      ],
      "metadata": {
        "id": "_RemL-bKdixT"
      }
    },
    {
      "cell_type": "code",
      "source": [
        "hero = ['Iron-man','Hulk','Captain-america']\n",
        "new_list = [i for i in hero if \"America\" in i]"
      ],
      "metadata": {
        "id": "zavr3vcAd2yY"
      },
      "execution_count": null,
      "outputs": []
    },
    {
      "cell_type": "code",
      "source": [
        "hero = ['Iron-man', 'Hulk', 'Captain-america']\n",
        "hero = [i.replace(\"Hulk\", \"Calm_guy\") for i in hero]\n",
        "print(hero)\n",
        "\n"
      ],
      "metadata": {
        "id": "MW_chTk6eSWR",
        "colab": {
          "base_uri": "https://localhost:8080/"
        },
        "outputId": "3939175a-0253-4c89-e061-ff9e01561974"
      },
      "execution_count": null,
      "outputs": [
        {
          "output_type": "stream",
          "name": "stdout",
          "text": [
            "['Iron-man', 'Calm_guy', 'Captain-america']\n"
          ]
        }
      ]
    },
    {
      "cell_type": "markdown",
      "source": [
        "Make the character in the list to uppercase"
      ],
      "metadata": {
        "id": "zxpL_foygl6F"
      }
    },
    {
      "cell_type": "code",
      "source": [
        "hero = ['Iron-man', 'Hulk', 'Captain-america']\n",
        "hero = [i.upper() for i in hero]\n",
        "print(hero)"
      ],
      "metadata": {
        "colab": {
          "base_uri": "https://localhost:8080/"
        },
        "id": "Q4oTLV0Dga07",
        "outputId": "e249746f-7a20-4bd7-e680-65e3ac7ce1cb"
      },
      "execution_count": null,
      "outputs": [
        {
          "output_type": "stream",
          "name": "stdout",
          "text": [
            "['IRON-MAN', 'HULK', 'CAPTAIN-AMERICA']\n"
          ]
        }
      ]
    },
    {
      "cell_type": "code",
      "source": [
        "hero = ['Iron-man', 'Hulk', 'Captain-america']\n",
        "new_list = [X for X in range(len(hero))]"
      ],
      "metadata": {
        "id": "p_eOiSFThgD5"
      },
      "execution_count": null,
      "outputs": []
    },
    {
      "cell_type": "code",
      "source": [
        "list = list(map(input().split()))\n",
        "prime_number = [i for i in range(0,25,1)]"
      ],
      "metadata": {
        "id": "g4rnnrRqhvdt"
      },
      "execution_count": null,
      "outputs": []
    },
    {
      "cell_type": "code",
      "source": [
        "for num in range(2, 26):\n",
        "    is_prime = True\n",
        "    for i in range(2, int(num**0.5) + 1):\n",
        "        if num % i == 0:\n",
        "            is_prime = False\n",
        "            break\n",
        "    if is_prime:\n",
        "        print(num, end=' ')\n"
      ],
      "metadata": {
        "colab": {
          "base_uri": "https://localhost:8080/"
        },
        "id": "W12dIrekiiQo",
        "outputId": "f8158852-78e5-43d7-f02c-dbee961f6511"
      },
      "execution_count": null,
      "outputs": [
        {
          "output_type": "stream",
          "name": "stdout",
          "text": [
            "2 3 5 7 11 13 17 19 23 "
          ]
        }
      ]
    },
    {
      "cell_type": "code",
      "source": [
        "num = list(map(int, input().split()))\n",
        "for n in num:\n",
        "    binary = bin(n)        # Converts each integer to binary\n",
        "    print(binary[2:])"
      ],
      "metadata": {
        "colab": {
          "base_uri": "https://localhost:8080/"
        },
        "id": "t85SWDizj5ZO",
        "outputId": "ac26e260-8b41-4142-ea58-e6a5ac9c04e0"
      },
      "execution_count": null,
      "outputs": [
        {
          "output_type": "stream",
          "name": "stdout",
          "text": [
            "5 10 15\n",
            "101\n",
            "1010\n",
            "1111\n"
          ]
        }
      ]
    },
    {
      "cell_type": "code",
      "source": [
        "from itertools import accumulate\n",
        "nums = list(map(int, input().split()))\n",
        "print(list(accumulate(nums)))\n"
      ],
      "metadata": {
        "colab": {
          "base_uri": "https://localhost:8080/",
          "height": 193
        },
        "id": "IvI4LnOlMEZ1",
        "outputId": "7cd421c3-8832-4c25-b89b-189c8b655aa7"
      },
      "execution_count": null,
      "outputs": [
        {
          "name": "stdout",
          "output_type": "stream",
          "text": [
            "1 6 9 8\n"
          ]
        },
        {
          "output_type": "error",
          "ename": "TypeError",
          "evalue": "'list' object is not callable",
          "traceback": [
            "\u001b[0;31m---------------------------------------------------------------------------\u001b[0m",
            "\u001b[0;31mTypeError\u001b[0m                                 Traceback (most recent call last)",
            "\u001b[0;32m/tmp/ipython-input-1834596022.py\u001b[0m in \u001b[0;36m<cell line: 0>\u001b[0;34m()\u001b[0m\n\u001b[1;32m      1\u001b[0m \u001b[0;32mfrom\u001b[0m \u001b[0mitertools\u001b[0m \u001b[0;32mimport\u001b[0m \u001b[0maccumulate\u001b[0m\u001b[0;34m\u001b[0m\u001b[0;34m\u001b[0m\u001b[0m\n\u001b[0;32m----> 2\u001b[0;31m \u001b[0mnums\u001b[0m \u001b[0;34m=\u001b[0m \u001b[0mlist\u001b[0m\u001b[0;34m(\u001b[0m\u001b[0mmap\u001b[0m\u001b[0;34m(\u001b[0m\u001b[0mint\u001b[0m\u001b[0;34m,\u001b[0m \u001b[0minput\u001b[0m\u001b[0;34m(\u001b[0m\u001b[0;34m)\u001b[0m\u001b[0;34m.\u001b[0m\u001b[0msplit\u001b[0m\u001b[0;34m(\u001b[0m\u001b[0;34m)\u001b[0m\u001b[0;34m)\u001b[0m\u001b[0;34m)\u001b[0m\u001b[0;34m\u001b[0m\u001b[0;34m\u001b[0m\u001b[0m\n\u001b[0m\u001b[1;32m      3\u001b[0m \u001b[0mprint\u001b[0m\u001b[0;34m(\u001b[0m\u001b[0mlist\u001b[0m\u001b[0;34m(\u001b[0m\u001b[0maccumulate\u001b[0m\u001b[0;34m(\u001b[0m\u001b[0mnums\u001b[0m\u001b[0;34m)\u001b[0m\u001b[0;34m)\u001b[0m\u001b[0;34m)\u001b[0m\u001b[0;34m\u001b[0m\u001b[0;34m\u001b[0m\u001b[0m\n",
            "\u001b[0;31mTypeError\u001b[0m: 'list' object is not callable"
          ]
        }
      ]
    },
    {
      "cell_type": "markdown",
      "source": [],
      "metadata": {
        "id": "RTDdkdYeKdU3"
      }
    },
    {
      "cell_type": "code",
      "source": [
        "prime = list(map(int, input().split()))\n",
        "is_prime = lambda n: n > 1 and all(n % i for i in range(2, int(n**0.5) + 1))\n",
        "for n in prime: print(f\"{n} is prime: {is_prime(n)}\")"
      ],
      "metadata": {
        "colab": {
          "base_uri": "https://localhost:8080/"
        },
        "id": "7NHtbJW3Jj1T",
        "outputId": "af025af6-f655-4207-9944-28ae776b58d2"
      },
      "execution_count": null,
      "outputs": [
        {
          "output_type": "stream",
          "name": "stdout",
          "text": [
            "5\n",
            "5 is prime: True\n"
          ]
        }
      ]
    },
    {
      "cell_type": "code",
      "source": [
        "n = int(input())\n",
        "print(n > 1 and all(n % i for i in range(2, int(n**0.5) + 1)))"
      ],
      "metadata": {
        "colab": {
          "base_uri": "https://localhost:8080/"
        },
        "id": "mHRd-GvMKSZQ",
        "outputId": "1b2e1d59-50ad-4c00-bfa9-1d033d93c0a6"
      },
      "execution_count": null,
      "outputs": [
        {
          "output_type": "stream",
          "name": "stdout",
          "text": [
            "5\n",
            "True\n"
          ]
        }
      ]
    },
    {
      "cell_type": "code",
      "source": [
        "rows, cols = 2, 2\n",
        "grid = [[0 for _ in range(cols)] for _ in range(rows)]\n",
        "print(grid)"
      ],
      "metadata": {
        "colab": {
          "base_uri": "https://localhost:8080/"
        },
        "id": "_2Z89ogmgABE",
        "outputId": "73a0053b-2f1a-4f57-95a2-a21672dc5db7"
      },
      "execution_count": null,
      "outputs": [
        {
          "output_type": "stream",
          "name": "stdout",
          "text": [
            "[[0, 0], [0, 0]]\n"
          ]
        }
      ]
    },
    {
      "cell_type": "code",
      "source": [
        "n = int(input(\"No. of friends \"))\n",
        "friends = [input(f\"Friend {i+1}: \") for i in range(n)]\n",
        "print(\"Your friends:\", friends)"
      ],
      "metadata": {
        "colab": {
          "base_uri": "https://localhost:8080/"
        },
        "id": "YwKJ6C85ip7E",
        "outputId": "cbe96984-9ce3-438f-8893-89c9fe011e4c"
      },
      "execution_count": null,
      "outputs": [
        {
          "output_type": "stream",
          "name": "stdout",
          "text": [
            "No. of friends 2\n",
            "Friend 1: ayun\n",
            "Friend 2: harsh\n",
            "Your friends: ['ayun', 'harsh']\n"
          ]
        }
      ]
    },
    {
      "cell_type": "code",
      "source": [
        "num = []\n",
        "n = int(input())\n",
        "for i in range(n):\n",
        "    name = int(input())\n",
        "    num.append(name)\n",
        "    if 80 in num:\n",
        "        num.remove(80)\n",
        "print(num)"
      ],
      "metadata": {
        "colab": {
          "base_uri": "https://localhost:8080/"
        },
        "id": "ofw3hPxMlrN5",
        "outputId": "99f68335-f5f7-4ecf-880b-f5abc094f796"
      },
      "execution_count": null,
      "outputs": [
        {
          "output_type": "stream",
          "name": "stdout",
          "text": [
            "3\n",
            "60\n",
            "0\n",
            "80\n",
            "[60, 0]\n"
          ]
        }
      ]
    },
    {
      "cell_type": "code",
      "source": [
        "rows, cols = 2, 3\n",
        "grid = [[int(input(f\"Enter value for ({i},{j}): \")) for j in range(cols)] for i in range(rows)]\n",
        "print(\"Your grid:\")\n",
        "for row in grid:\n",
        "    print(row)\n"
      ],
      "metadata": {
        "colab": {
          "base_uri": "https://localhost:8080/"
        },
        "id": "dE68bH1osFat",
        "outputId": "e6625b49-9ec9-4cf9-ab88-0ac7e964a992"
      },
      "execution_count": null,
      "outputs": [
        {
          "output_type": "stream",
          "name": "stdout",
          "text": [
            "Enter value for (0,0): 1\n",
            "Enter value for (0,1): 2\n",
            "Enter value for (0,2): 3\n",
            "Enter value for (1,0): 4\n",
            "Enter value for (1,1): 5\n",
            "Enter value for (1,2): 6\n",
            "Your grid:\n",
            "[1, 2, 3]\n",
            "[4, 5, 6]\n"
          ]
        }
      ]
    },
    {
      "cell_type": "code",
      "source": [
        "car = [\"Toyota\", \"BMW\", \"Honda\"]\n",
        "color = [\"Red\", \"Blue\", \"Black\"]\n",
        "pairs = [(car, color) for car, color in zip(car, color)]\n",
        "print(pairs)"
      ],
      "metadata": {
        "colab": {
          "base_uri": "https://localhost:8080/"
        },
        "id": "7BdKOb7htBYN",
        "outputId": "c9d495f7-829a-400a-a067-469241960770"
      },
      "execution_count": null,
      "outputs": [
        {
          "output_type": "stream",
          "name": "stdout",
          "text": [
            "[('Toyota', 'Red'), ('BMW', 'Blue'), ('Honda', 'Black')]\n"
          ]
        }
      ]
    },
    {
      "cell_type": "code",
      "source": [
        "a = [1,2,3,4,5]\n",
        "a[2:] = [10]\n",
        "print(a)"
      ],
      "metadata": {
        "colab": {
          "base_uri": "https://localhost:8080/"
        },
        "id": "P1na4koTuSdR",
        "outputId": "8e9d3e49-6af9-407b-c6db-9c0e3b2a27c2"
      },
      "execution_count": null,
      "outputs": [
        {
          "output_type": "stream",
          "name": "stdout",
          "text": [
            "[1, 2, 10]\n"
          ]
        }
      ]
    },
    {
      "cell_type": "code",
      "source": [
        "s = input(\"Enter string: \")\n",
        "for ch in s:\n",
        "    if s.count(ch) == 1:\n",
        "        print(\"First non-repeating:\", ch)\n",
        "        break\n",
        "else:\n",
        "    print(\"No non-repeating character\")\n"
      ],
      "metadata": {
        "id": "b5AWuNdGurlG",
        "colab": {
          "base_uri": "https://localhost:8080/"
        },
        "outputId": "615844c3-3a58-440a-b2dd-98c3d9390af1"
      },
      "execution_count": null,
      "outputs": [
        {
          "output_type": "stream",
          "name": "stdout",
          "text": [
            "Enter string: Priyanshup\n",
            "First non-repeating: P\n"
          ]
        }
      ]
    },
    {
      "cell_type": "code",
      "source": [
        "n = int(input(\"Enter number: \"))\n",
        "print(\"Prime\" if n > 1 and all(n % i != 0 for i in range(2, int(n**.5) + 1)) else \"Not Prime\")"
      ],
      "metadata": {
        "colab": {
          "base_uri": "https://localhost:8080/"
        },
        "id": "Yc2tJk7923Rp",
        "outputId": "4f1a1052-1eb4-4647-e4f8-6c1eb6ef6435"
      },
      "execution_count": null,
      "outputs": [
        {
          "output_type": "stream",
          "name": "stdout",
          "text": [
            "Enter number: 9\n",
            "Not Prime\n"
          ]
        }
      ]
    },
    {
      "cell_type": "code",
      "source": [
        "l = ['apple' , 'orange']\n",
        "p = [i.upper() for i in l  ]\n",
        "print(p)"
      ],
      "metadata": {
        "colab": {
          "base_uri": "https://localhost:8080/"
        },
        "id": "vNRzUylzGP_O",
        "outputId": "c7cb2027-6598-41cc-f343-2723c045db1d"
      },
      "execution_count": null,
      "outputs": [
        {
          "output_type": "stream",
          "name": "stdout",
          "text": [
            "['APPLE', 'ORANGE']\n"
          ]
        }
      ]
    },
    {
      "cell_type": "code",
      "source": [
        "nested = [[1,2,3], [4,5,6], [7,8,9]]\n",
        "flat = [i for sublist in nested for i in sublist]\n",
        "print(flat)"
      ],
      "metadata": {
        "colab": {
          "base_uri": "https://localhost:8080/"
        },
        "id": "eGIa7IVpHKxj",
        "outputId": "7105cda2-555a-4ee5-a819-66d3716f4f38"
      },
      "execution_count": null,
      "outputs": [
        {
          "output_type": "stream",
          "name": "stdout",
          "text": [
            "[1, 2, 3, 4, 5, 6, 7, 8, 9]\n"
          ]
        }
      ]
    },
    {
      "cell_type": "code",
      "source": [
        "boys= [\"Ankit\", \"Ankit\", \"Harsh\"]\n",
        "girls = [\"A\", \"B\", \"C\"]\n",
        "pairs = [(boys, girls) for boys, girls in zip(boys, girls)]\n",
        "print(pairs)"
      ],
      "metadata": {
        "colab": {
          "base_uri": "https://localhost:8080/"
        },
        "id": "2JkrO54IHrbm",
        "outputId": "ef7dd699-40d2-4fb2-ecef-e2684c5456d5"
      },
      "execution_count": null,
      "outputs": [
        {
          "output_type": "stream",
          "name": "stdout",
          "text": [
            "[('Ankit', 'A'), ('Ankit', 'B'), ('Harsh', 'C')]\n"
          ]
        }
      ]
    },
    {
      "cell_type": "code",
      "source": [
        "car ={'brand' : 'Audi' , 'model' : 'q2025', 'year' : '2025'}\n",
        "# print(len(car['brand']))\n",
        "# car_keys = car.keys()\n",
        "# car['fuel'] = 'petrol'\n",
        "# car['year'] = 2024  #car.update({'year' : 2024})\n",
        "# car['color'] = 'red' #car.update({'color': 'red'})\n",
        "\n",
        "# print(car.pop('Audi')) #pop()expects a valid key to remove and return its value.\n",
        "#print(car.popitem()) #remove last key-value pairs\n",
        "# print(car)\n",
        "# print(id(car))\n",
        "# car_copy = car\n",
        "# print(car_copy)\n",
        "# print(id(car_copy))\n",
        "# car_copy = car.copy()\n",
        "# print(car_copy)\n",
        "for x in car:\n",
        "  print(car[x])\n",
        "#{(k,v)for k,v in car.items()}\n",
        "\n"
      ],
      "metadata": {
        "colab": {
          "base_uri": "https://localhost:8080/"
        },
        "id": "g0FIz_RYJsqr",
        "outputId": "420f87af-290e-4f56-df70-48ea9c787594"
      },
      "execution_count": null,
      "outputs": [
        {
          "output_type": "stream",
          "name": "stdout",
          "text": [
            "Audi\n",
            "q2025\n",
            "2024\n",
            "petrol\n",
            "red\n"
          ]
        }
      ]
    },
    {
      "cell_type": "code",
      "source": [
        "data = list((input(\"ENter number: \").split()))\n",
        "num = dict(zip(data[::2], data[1::2]))\n",
        "print(num)\n"
      ],
      "metadata": {
        "colab": {
          "base_uri": "https://localhost:8080/"
        },
        "id": "WFLbaCWVHmj1",
        "outputId": "25e1ed10-4e05-408e-ea4a-c2eabbc78c3c"
      },
      "execution_count": null,
      "outputs": [
        {
          "output_type": "stream",
          "name": "stdout",
          "text": [
            "ENter number: apple\n",
            "{}\n"
          ]
        }
      ]
    },
    {
      "cell_type": "code",
      "source": [
        "fruits = ['apple','apple','banana','orange']\n",
        "count = {}\n",
        "for i in fruits:\n",
        "  count[i] = count.get(i,0) +1\n",
        "print(count)\n"
      ],
      "metadata": {
        "colab": {
          "base_uri": "https://localhost:8080/"
        },
        "id": "Nf9fYnetQqKK",
        "outputId": "a8e7c6d3-a023-4fd7-c206-193fad63f375"
      },
      "execution_count": null,
      "outputs": [
        {
          "output_type": "stream",
          "name": "stdout",
          "text": [
            "{'apple': 2, 'banana': 1, 'orange': 1}\n",
            "Audi\n",
            "q2025\n",
            "2024\n",
            "petrol\n",
            "red\n"
          ]
        }
      ]
    },
    {
      "cell_type": "code",
      "source": [
        "import copy\n",
        "original = {\n",
        "    \"name\": \"Priyanshu\",\n",
        "    \"skills\": {\"Python\": \"Advanced\", \"C++\": \"Expert\"},\n",
        "    \"projects\": [\"Automation\", \"Web Design\"]\n",
        "}\n",
        "copied = copy.deepcopy(original)  # ✅ Deep copy to avoid shared references\n",
        "# Modify the copy\n",
        "copied[\"skills\"][\"Python\"] = \"Beginner\"\n",
        "copied[\"projects\"].append(\"AI\")\n",
        "# Original remains unchanged\n",
        "print(original[\"skills\"][\"Python\"])  # Output: Advanced\n",
        "print(original[\"projects\"])          # Output: ['Automation', 'Web Design']"
      ],
      "metadata": {
        "colab": {
          "base_uri": "https://localhost:8080/"
        },
        "id": "FgYvE128Ivxa",
        "outputId": "1535db38-7d75-4275-c2ec-46a8f1d2f934"
      },
      "execution_count": null,
      "outputs": [
        {
          "output_type": "stream",
          "name": "stdout",
          "text": [
            "Advanced\n",
            "['Automation', 'Web Design']\n"
          ]
        }
      ]
    },
    {
      "cell_type": "code",
      "source": [],
      "metadata": {
        "id": "Te5Cj7w_Lz0A"
      },
      "execution_count": null,
      "outputs": []
    },
    {
      "cell_type": "markdown",
      "source": [],
      "metadata": {
        "id": "Nu4jmc89NQOA"
      }
    },
    {
      "cell_type": "code",
      "source": [
        "secA = {\"s1\": {'name': 'Harsh', 'roll': 35, 'year': 2024}}\n",
        "print(secA.get('s1').get('roll'))\n"
      ],
      "metadata": {
        "colab": {
          "base_uri": "https://localhost:8080/"
        },
        "id": "6AJVo2evLSsE",
        "outputId": "e929bbd2-b3a4-42cc-e113-3321caa7fd5f"
      },
      "execution_count": null,
      "outputs": [
        {
          "output_type": "stream",
          "name": "stdout",
          "text": [
            "35\n"
          ]
        }
      ]
    },
    {
      "cell_type": "code",
      "source": [
        "students = ['Harsh', 'Kushagra', 'Ankit']\n",
        "subjects = ['Math', 'Science', 'English']\n",
        "nested_dict = {}\n",
        "#nested_dict = {i: {j: 0 for j in subjects} for i in students}\n",
        "# print(nested_dict)\n",
        "\n",
        "for i in students:\n",
        "    nested_dict[i] = {}\n",
        "    for j in subjects:\n",
        "        nested_dict[i][j] = 0  # Initialize score to 0\n",
        "print(nested_dict)\n"
      ],
      "metadata": {
        "colab": {
          "base_uri": "https://localhost:8080/"
        },
        "id": "KOw6frRbL0ae",
        "outputId": "cc086b0f-9915-4c0b-8e81-c6de1099da7e"
      },
      "execution_count": null,
      "outputs": [
        {
          "output_type": "stream",
          "name": "stdout",
          "text": [
            "{}\n",
            "{'Harsh': {'Math': 0, 'Science': 0, 'English': 0}, 'Kushagra': {'Math': 0, 'Science': 0, 'English': 0}, 'Ankit': {'Math': 0, 'Science': 0, 'English': 0}}\n"
          ]
        }
      ]
    },
    {
      "cell_type": "code",
      "source": [
        "import random\n",
        "students = ['Harsh', 'Kushagra', 'Ankit']\n",
        "subjects = ['Math', 'Science', 'English']\n",
        "nested_dict = {}\n",
        "for student in students:\n",
        "    nested_dict[student] = {}\n",
        "    for subject in subjects:\n",
        "        nested_dict[student][subject] = random.randint(40, 100)  # Assign random marks between 40 and 100\n",
        "print(nested_dict)"
      ],
      "metadata": {
        "colab": {
          "base_uri": "https://localhost:8080/"
        },
        "id": "mnVUrc4ANA4m",
        "outputId": "dec93b82-93f3-44db-b466-815322a20e6b"
      },
      "execution_count": null,
      "outputs": [
        {
          "output_type": "stream",
          "name": "stdout",
          "text": [
            "{'Harsh': {'Math': 57, 'Science': 78, 'English': 74}, 'Kushagra': {'Math': 75, 'Science': 82, 'English': 90}, 'Ankit': {'Math': 60, 'Science': 86, 'English': 77}}\n"
          ]
        }
      ]
    },
    {
      "cell_type": "code",
      "source": [],
      "metadata": {
        "id": "tkGf4e5fMybB"
      },
      "execution_count": null,
      "outputs": []
    }
  ]
}